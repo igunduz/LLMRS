{
  "cells": [
    {
      "cell_type": "code",
      "execution_count": 3,
      "metadata": {
        "id": "f5NDXrN2CtH7"
      },
      "outputs": [],
      "source": [
        "import os\n",
        "import json\n",
        "import gzip\n",
        "import pandas as pd\n",
        "from urllib.request import urlopen"
      ]
    },
    {
      "cell_type": "code",
      "execution_count": 4,
      "metadata": {
        "colab": {
          "base_uri": "https://localhost:8080/",
          "height": 71
        },
        "id": "7igYuRaV4bF7",
        "outputId": "c0595e40-c850-43b2-d32a-43cb2cbd0e1f"
      },
      "outputs": [
        {
          "name": "stdout",
          "output_type": "stream",
          "text": [
            "26790\n",
            "{'category': [], 'tech1': '', 'description': [], 'fit': '', 'title': 'HOLT PHYSICS LESSON PRESENTATION CD-ROM QUICK CONCEPTS', 'also_buy': [], 'tech2': '', 'brand': 'HOLT. RINEHART AND WINSTON', 'feature': [], 'rank': '25,550 in Software (', 'also_view': [], 'main_cat': 'Software', 'similar_item': '', 'date': '</div>', 'price': '.a-box-inner{background-color:#fff}#alohaBuyBoxWidget .selected{background-color:#fffbf3;border-color:#e77600;box-shadow:0 0 3px rgba(228,121,17,.5)}#alohaBuyBoxWidget .contract-not-available{color:gray}#aloha-cart-popover .aloha-cart{height:auto;overflow:hidden}#aloha-cart-popover #aloha-cartInfo{float:left}#aloha-cart-popover #aloha-cart-details{float:right;margin-top:1em}#aloha-cart-popover .deviceContainer{width:160px;float:left;padding-right:10px;border-right:1px solid #ddd}#aloha-cart-popover li:last-child{border-right:0}#aloha-cart-popover .aloha-device-title{height:3em;overflow:hidden}#aloha-cart-popover .aloha-thumbnail-container{height:100px;margin-bottom:1em;text-align:center}#aloha-cart-popover .aloha-price-container{text-align:center}#aloha-cart-popover .aloha-thumbnail-container img{height:inherit}#aloha-cart-popover .aloha-cart{border-top:1px solid #ddd;border-bottom:1px solid #ddd}#aloha-cart-popover #aloha-cart-info{margin-right:0}#alohaBuyBoxWidget .without-contract-subheading{margin-right:0}#aloha-bb-help-nodes .aloha-bb-contract-term-heading{color:gray;font-family:arial;margin-top:.5em;text-align:center;height:.7em;border-bottom:1px solid gray;margin-bottom:1.6em}#aloha-bb-help-nodes .aloha-bb-contract-term-heading span{background-color:#fff;padding:0 10px 0 10px}#alohaAvailabilityUS_feature_div .availability a{text-decoration:none}#alohaPricingWidget a{text-decoration:none}#alohaAvailabilityUS_feature_div .availability{margin-top:-4px;margin-bottom:0}#alohaBuyBoxWidget .select-transaction-alert .a-icon-alert{top:18px;left:3px}#alohaBuyBoxWidget .select-transaction-alert .a-alert-container{padding-left:39px;width:290px}#alohaBuyBoxUS_feature_div #alohaBuyBoxWidget .contract-container .contract-term-heading a{text-decoration:none}#alohaBuyBoxUS_feature_div #alohaBuyBoxWidget .annual-contract-box .a-icon-popover{display:none}#alohaBuyBoxUS_feature_div #alohaBuyBoxWidget .contract-container .annual-contract-box{cursor:pointer;cursor:hand}#alohaBuyBoxUS_feature_div #alohaBuyBoxWidget .aloha-buybox-price{font-size:15px}#alohaBuyBoxUS_feature_div #alohaBuyBoxWidget #linkOffSection a{text-decoration:none}#alohaBuyBoxUS_feature_div .lockedUsedBuyboxContainer{padding-left:3.5%}#alohaBuyBoxUS_feature_div .alohaBuyboxUtilsNoWrap{white-space:nowrap}.hidden{display:none}.simo-no-padding{padding:0}.carrier-reviews-cell{padding-left:10px}.carrier-reviews-bordered-cell{border:1px dotted #ccc}.carrier-reviews-selected-cell{background-color:#ffd}#aloha-carrier-compatibility-modal-table-description{margin-top:10px;margin-bottom:14px}.aloha-carrier-compatibility-sortable-header.carrier{min-width:97px}.aloha-carrier-compatibility-sortable-header.compatibility{min-width:156px}.aloha-carrier-compatibility-sortable-header div{float:left}.aloha-carrier-compatibility-sortable-header i.a-icon{margin-left:10px;margin-top:4px}#aloha-carrier-compatibility-overview-table.a-bordered.a-vertical-stripes td:nth-child(2n),#aloha-carrier-compatibility-overview-table.a-bordered.a-vertical-stripes th:nth-child(2n){background-color:initial}#aloha-carrier-compatibility-modal-table.a-bordered.a-vertical-stripes td:nth-child(2n),#aloha-carrier-compatibility-modal-table.a-bordered.a-vertical-stripes th:nth-child(2n){background-color:initial}#aloha-carrier-compatibility-table.a-bordered.a-vertical-stripes th:nth-child(2n),.aloha-carrier-compatibility-table.a-bordered.a-vertical-stripes td:nth-child(2n){background-color:transparent}.aloha-carrier-compatibility-column-gray{background-color:#f6f6f6}.aloha-carrier-compatibility-modal-table-row .aloha-carrier-compatibility-tech-text,.aloha-carrier-compatibility-modal-table-row .carrier-name,.aloha-carrier-compatibility-modal-table-row .carrier-rating-summary{min-height:27px;display:inline-block;cursor:default}.aloha-carrier-compatibility-modal-table-row .aloha-carrier-compatibility-tech-text:first-line,.aloha-carrier-compatibility-modal-table-row .carrier-name:first-line,.aloha-carrier-compatibility-modal-table-row .carrier-rating-summary:first-line{line-height:27px}.aloha-carrier-compatibility-modal-table-row .aloha-carrier-compatibility-icon{margin-top:6px}.aloha-carrier-compatibility-check-icon{width:30px;height:27px;background-position:-318px -35px;background-image:url(https://images-na.ssl-images-amazon.com/images/G/01/AUIClients/AmazonUIBaseCSS-sprite_2x-8e7ef370dc28a214b3f490c9620f4ac501d5a864._V2_.png);background-repeat:no-repeat;background-size:400px 650px;display:inline-block;vertical-align:top}.aloha-carrier-compatibility-hidden{display:none}.aloha-buybox-spaced-link{margin-top:12px;margin-bottom:7px;text-align:center}.popover-tab', 'asin': '0030672120', 'imageURL': [], 'imageURLHighRes': []}\n"
          ]
        }
      ],
      "source": [
        "### load the meta data\n",
        "\n",
        "data = []\n",
        "with gzip.open('meta_Software.json.gz') as f:\n",
        "    for l in f:\n",
        "        data.append(json.loads(l.strip()))\n",
        "\n",
        "# total length of list, this number equals total number of products\n",
        "print(len(data))\n",
        "\n",
        "# first row of the list\n",
        "print(data[0])"
      ]
    },
    {
      "cell_type": "code",
      "execution_count": 5,
      "metadata": {
        "colab": {
          "base_uri": "https://localhost:8080/",
          "height": 34
        },
        "id": "knpHP22w4scK",
        "outputId": "b75be678-1377-4b8c-b689-56e1eab703b8"
      },
      "outputs": [
        {
          "name": "stdout",
          "output_type": "stream",
          "text": [
            "26790\n"
          ]
        }
      ],
      "source": [
        "# convert list into pandas dataframe\n",
        "\n",
        "df = pd.DataFrame.from_dict(data)\n",
        "\n",
        "print(len(df))"
      ]
    },
    {
      "cell_type": "code",
      "execution_count": 6,
      "metadata": {
        "colab": {
          "base_uri": "https://localhost:8080/",
          "height": 51
        },
        "id": "LgWrDtZ94w89",
        "outputId": "7e22e4ab-1622-4452-ce81-54e85ef92522"
      },
      "outputs": [
        {
          "name": "stdout",
          "output_type": "stream",
          "text": [
            "0\n",
            "26790\n"
          ]
        }
      ],
      "source": [
        "### remove rows with unformatted title (i.e. some 'title' may still contain html style content)\n",
        "\n",
        "df3 = df.fillna('')\n",
        "df4 = df3[df3.title.str.contains('getTime')] # unformatted rows\n",
        "df5 = df3[~df3.title.str.contains('getTime')] # filter those unformatted rows\n",
        "print(len(df4))\n",
        "print(len(df5))"
      ]
    },
    {
      "cell_type": "code",
      "execution_count": 7,
      "metadata": {
        "id": "6LBLzsFU5LJ_"
      },
      "outputs": [
        {
          "data": {
            "text/html": [
              "<div>\n",
              "<style scoped>\n",
              "    .dataframe tbody tr th:only-of-type {\n",
              "        vertical-align: middle;\n",
              "    }\n",
              "\n",
              "    .dataframe tbody tr th {\n",
              "        vertical-align: top;\n",
              "    }\n",
              "\n",
              "    .dataframe thead th {\n",
              "        text-align: right;\n",
              "    }\n",
              "</style>\n",
              "<table border=\"1\" class=\"dataframe\">\n",
              "  <thead>\n",
              "    <tr style=\"text-align: right;\">\n",
              "      <th></th>\n",
              "      <th>category</th>\n",
              "      <th>tech1</th>\n",
              "      <th>description</th>\n",
              "      <th>fit</th>\n",
              "      <th>title</th>\n",
              "      <th>also_buy</th>\n",
              "      <th>tech2</th>\n",
              "      <th>brand</th>\n",
              "      <th>feature</th>\n",
              "      <th>rank</th>\n",
              "      <th>also_view</th>\n",
              "      <th>main_cat</th>\n",
              "      <th>similar_item</th>\n",
              "      <th>date</th>\n",
              "      <th>price</th>\n",
              "      <th>asin</th>\n",
              "      <th>imageURL</th>\n",
              "      <th>imageURLHighRes</th>\n",
              "      <th>details</th>\n",
              "    </tr>\n",
              "  </thead>\n",
              "  <tbody>\n",
              "    <tr>\n",
              "      <th>0</th>\n",
              "      <td>[]</td>\n",
              "      <td></td>\n",
              "      <td>[]</td>\n",
              "      <td></td>\n",
              "      <td>HOLT PHYSICS LESSON PRESENTATION CD-ROM QUICK ...</td>\n",
              "      <td>[]</td>\n",
              "      <td></td>\n",
              "      <td>HOLT. RINEHART AND WINSTON</td>\n",
              "      <td>[]</td>\n",
              "      <td>25,550 in Software (</td>\n",
              "      <td>[]</td>\n",
              "      <td>Software</td>\n",
              "      <td></td>\n",
              "      <td>&lt;/div&gt;</td>\n",
              "      <td>.a-box-inner{background-color:#fff}#alohaBuyBo...</td>\n",
              "      <td>0030672120</td>\n",
              "      <td>[]</td>\n",
              "      <td>[]</td>\n",
              "      <td></td>\n",
              "    </tr>\n",
              "    <tr>\n",
              "      <th>1</th>\n",
              "      <td>[]</td>\n",
              "      <td></td>\n",
              "      <td>[, &lt;b&gt;Latin rhythms that will get your kids si...</td>\n",
              "      <td></td>\n",
              "      <td>Sing, Watch, &amp;amp; Learn Spanish (DVD + Guide)...</td>\n",
              "      <td>[]</td>\n",
              "      <td></td>\n",
              "      <td>McGraw Hill</td>\n",
              "      <td>[]</td>\n",
              "      <td>15,792 in Software (</td>\n",
              "      <td>[]</td>\n",
              "      <td>Software</td>\n",
              "      <td></td>\n",
              "      <td>&lt;/div&gt;</td>\n",
              "      <td></td>\n",
              "      <td>0071480935</td>\n",
              "      <td>[https://images-na.ssl-images-amazon.com/image...</td>\n",
              "      <td>[https://images-na.ssl-images-amazon.com/image...</td>\n",
              "      <td></td>\n",
              "    </tr>\n",
              "    <tr>\n",
              "      <th>2</th>\n",
              "      <td>[]</td>\n",
              "      <td></td>\n",
              "      <td>[&lt;b&gt;Connect is the only integrated learning sy...</td>\n",
              "      <td></td>\n",
              "      <td>Connect with LearnSmart Access Card for Microb...</td>\n",
              "      <td>[]</td>\n",
              "      <td></td>\n",
              "      <td>McGraw-Hill Science/Engineering/Math</td>\n",
              "      <td>[]</td>\n",
              "      <td>16,900 in Software (</td>\n",
              "      <td>[]</td>\n",
              "      <td>Software</td>\n",
              "      <td></td>\n",
              "      <td>&lt;/div&gt;</td>\n",
              "      <td></td>\n",
              "      <td>007329506X</td>\n",
              "      <td>[https://images-na.ssl-images-amazon.com/image...</td>\n",
              "      <td>[https://images-na.ssl-images-amazon.com/image...</td>\n",
              "      <td></td>\n",
              "    </tr>\n",
              "    <tr>\n",
              "      <th>3</th>\n",
              "      <td>[]</td>\n",
              "      <td></td>\n",
              "      <td>[]</td>\n",
              "      <td></td>\n",
              "      <td>LearnSmart Standalone Access Card for Prescott...</td>\n",
              "      <td>[]</td>\n",
              "      <td></td>\n",
              "      <td>McGraw-Hill Education</td>\n",
              "      <td>[]</td>\n",
              "      <td>12,986 in Software (</td>\n",
              "      <td>[]</td>\n",
              "      <td>Software</td>\n",
              "      <td></td>\n",
              "      <td>&lt;/div&gt;</td>\n",
              "      <td></td>\n",
              "      <td>0073513458</td>\n",
              "      <td>[https://images-na.ssl-images-amazon.com/image...</td>\n",
              "      <td>[https://images-na.ssl-images-amazon.com/image...</td>\n",
              "      <td></td>\n",
              "    </tr>\n",
              "    <tr>\n",
              "      <th>4</th>\n",
              "      <td>[]</td>\n",
              "      <td></td>\n",
              "      <td>[&lt;i&gt;Anatomy &amp;amp; Physiology Revealed Cat&lt;/i&gt; ...</td>\n",
              "      <td></td>\n",
              "      <td>Anatomy &amp;amp; Physiology Revealed Student Acce...</td>\n",
              "      <td>[0323394612, 0323227937, 1118527488]</td>\n",
              "      <td></td>\n",
              "      <td>McGraw-Hill Education</td>\n",
              "      <td>[]</td>\n",
              "      <td>14,861 in Software (</td>\n",
              "      <td>[]</td>\n",
              "      <td>Software</td>\n",
              "      <td></td>\n",
              "      <td>&lt;/div&gt;</td>\n",
              "      <td>$4.83</td>\n",
              "      <td>0073525758</td>\n",
              "      <td>[https://images-na.ssl-images-amazon.com/image...</td>\n",
              "      <td>[https://images-na.ssl-images-amazon.com/image...</td>\n",
              "      <td></td>\n",
              "    </tr>\n",
              "  </tbody>\n",
              "</table>\n",
              "</div>"
            ],
            "text/plain": [
              "  category tech1                                        description fit  \\\n",
              "0       []                                                       []       \n",
              "1       []        [, <b>Latin rhythms that will get your kids si...       \n",
              "2       []        [<b>Connect is the only integrated learning sy...       \n",
              "3       []                                                       []       \n",
              "4       []        [<i>Anatomy &amp; Physiology Revealed Cat</i> ...       \n",
              "\n",
              "                                               title  \\\n",
              "0  HOLT PHYSICS LESSON PRESENTATION CD-ROM QUICK ...   \n",
              "1  Sing, Watch, &amp; Learn Spanish (DVD + Guide)...   \n",
              "2  Connect with LearnSmart Access Card for Microb...   \n",
              "3  LearnSmart Standalone Access Card for Prescott...   \n",
              "4  Anatomy &amp; Physiology Revealed Student Acce...   \n",
              "\n",
              "                               also_buy tech2  \\\n",
              "0                                    []         \n",
              "1                                    []         \n",
              "2                                    []         \n",
              "3                                    []         \n",
              "4  [0323394612, 0323227937, 1118527488]         \n",
              "\n",
              "                                  brand feature                  rank  \\\n",
              "0            HOLT. RINEHART AND WINSTON      []  25,550 in Software (   \n",
              "1                           McGraw Hill      []  15,792 in Software (   \n",
              "2  McGraw-Hill Science/Engineering/Math      []  16,900 in Software (   \n",
              "3                 McGraw-Hill Education      []  12,986 in Software (   \n",
              "4                 McGraw-Hill Education      []  14,861 in Software (   \n",
              "\n",
              "  also_view  main_cat similar_item    date  \\\n",
              "0        []  Software               </div>   \n",
              "1        []  Software               </div>   \n",
              "2        []  Software               </div>   \n",
              "3        []  Software               </div>   \n",
              "4        []  Software               </div>   \n",
              "\n",
              "                                               price        asin  \\\n",
              "0  .a-box-inner{background-color:#fff}#alohaBuyBo...  0030672120   \n",
              "1                                                     0071480935   \n",
              "2                                                     007329506X   \n",
              "3                                                     0073513458   \n",
              "4                                              $4.83  0073525758   \n",
              "\n",
              "                                            imageURL  \\\n",
              "0                                                 []   \n",
              "1  [https://images-na.ssl-images-amazon.com/image...   \n",
              "2  [https://images-na.ssl-images-amazon.com/image...   \n",
              "3  [https://images-na.ssl-images-amazon.com/image...   \n",
              "4  [https://images-na.ssl-images-amazon.com/image...   \n",
              "\n",
              "                                     imageURLHighRes details  \n",
              "0                                                 []          \n",
              "1  [https://images-na.ssl-images-amazon.com/image...          \n",
              "2  [https://images-na.ssl-images-amazon.com/image...          \n",
              "3  [https://images-na.ssl-images-amazon.com/image...          \n",
              "4  [https://images-na.ssl-images-amazon.com/image...          "
            ]
          },
          "execution_count": 7,
          "metadata": {},
          "output_type": "execute_result"
        }
      ],
      "source": [
        "df5.head()"
      ]
    },
    {
      "cell_type": "code",
      "execution_count": 8,
      "metadata": {
        "id": "WqZcdGp-5cui"
      },
      "outputs": [
        {
          "name": "stdout",
          "output_type": "stream",
          "text": [
            "Number of empty categories: 2063\n",
            "Number of categories labeled as 'Software': 24727\n"
          ]
        }
      ],
      "source": [
        "empty_categories = df5['category'].apply(lambda x: len(x) == 0).sum()\n",
        "software_categories = df5['category'].apply(lambda x: 'Software' in x).sum()\n",
        "\n",
        "print(\"Number of empty categories:\", empty_categories)\n",
        "print(\"Number of categories labeled as 'Software':\", software_categories)\n"
      ]
    },
    {
      "cell_type": "code",
      "execution_count": 9,
      "metadata": {},
      "outputs": [
        {
          "name": "stdout",
          "output_type": "stream",
          "text": [
            "Number of empty prices: 0\n",
            "Number of prices labeled as 'Software': 0\n"
          ]
        }
      ],
      "source": [
        "empty_prices = df5['price'].isna().sum()\n",
        "software_prices = df5['price'].apply(lambda x: 'Software' in str(x)).sum()\n",
        "\n",
        "print(\"Number of empty prices:\", empty_prices)\n",
        "print(\"Number of prices labeled as 'Software':\", software_prices)\n"
      ]
    },
    {
      "cell_type": "code",
      "execution_count": 10,
      "metadata": {},
      "outputs": [
        {
          "name": "stdout",
          "output_type": "stream",
          "text": [
            "Number of duplicate ASINs: 5151\n"
          ]
        }
      ],
      "source": [
        "duplicate_asins = df5.duplicated(subset='asin').sum()\n",
        "print(\"Number of duplicate ASINs:\", duplicate_asins)\n"
      ]
    },
    {
      "cell_type": "code",
      "execution_count": 11,
      "metadata": {},
      "outputs": [
        {
          "name": "stdout",
          "output_type": "stream",
          "text": [
            "Number of empty descriptions: 3595\n"
          ]
        }
      ],
      "source": [
        "empty_descriptions = df5['description'].apply(lambda x: len(x) == 0).sum()\n",
        "print(\"Number of empty descriptions:\", empty_descriptions)\n"
      ]
    },
    {
      "cell_type": "code",
      "execution_count": 12,
      "metadata": {},
      "outputs": [
        {
          "name": "stdout",
          "output_type": "stream",
          "text": [
            "Number of categories labeled as 'Software': 23771\n"
          ]
        }
      ],
      "source": [
        "software_categories = df5['main_cat'].apply(lambda x: 'Software' in x).sum()\n",
        "print(\"Number of categories labeled as 'Software':\", software_categories)\n"
      ]
    },
    {
      "cell_type": "code",
      "execution_count": 14,
      "metadata": {},
      "outputs": [
        {
          "name": "stdout",
          "output_type": "stream",
          "text": [
            "Number of rows with date not equal to '</div>': 3817\n"
          ]
        }
      ],
      "source": [
        "non_div_date = df5[df5['date'] != '</div>'].shape[0]\n",
        "print(\"Number of rows with date not equal to '</div>':\", non_div_date)\n"
      ]
    },
    {
      "cell_type": "code",
      "execution_count": 27,
      "metadata": {},
      "outputs": [
        {
          "name": "stdout",
          "output_type": "stream",
          "text": [
            "(17424, 17)\n"
          ]
        },
        {
          "data": {
            "text/html": [
              "<div>\n",
              "<style scoped>\n",
              "    .dataframe tbody tr th:only-of-type {\n",
              "        vertical-align: middle;\n",
              "    }\n",
              "\n",
              "    .dataframe tbody tr th {\n",
              "        vertical-align: top;\n",
              "    }\n",
              "\n",
              "    .dataframe thead th {\n",
              "        text-align: right;\n",
              "    }\n",
              "</style>\n",
              "<table border=\"1\" class=\"dataframe\">\n",
              "  <thead>\n",
              "    <tr style=\"text-align: right;\">\n",
              "      <th></th>\n",
              "      <th>category</th>\n",
              "      <th>tech1</th>\n",
              "      <th>description</th>\n",
              "      <th>fit</th>\n",
              "      <th>title</th>\n",
              "      <th>also_buy</th>\n",
              "      <th>tech2</th>\n",
              "      <th>brand</th>\n",
              "      <th>feature</th>\n",
              "      <th>rank</th>\n",
              "      <th>also_view</th>\n",
              "      <th>main_cat</th>\n",
              "      <th>similar_item</th>\n",
              "      <th>date</th>\n",
              "      <th>price</th>\n",
              "      <th>asin</th>\n",
              "      <th>details</th>\n",
              "    </tr>\n",
              "  </thead>\n",
              "  <tbody>\n",
              "    <tr>\n",
              "      <th>11</th>\n",
              "      <td>[Software, Education &amp;amp; Reference]</td>\n",
              "      <td></td>\n",
              "      <td>[Slides with Video, Teaching Public Speaking O...</td>\n",
              "      <td></td>\n",
              "      <td>Instructor's Resource CD-ROM for The Art of Sp...</td>\n",
              "      <td>[]</td>\n",
              "      <td></td>\n",
              "      <td>McGraw Hill</td>\n",
              "      <td>[]</td>\n",
              "      <td>18,178 in Software (</td>\n",
              "      <td>[]</td>\n",
              "      <td>Software</td>\n",
              "      <td></td>\n",
              "      <td>&lt;/div&gt;</td>\n",
              "      <td>$8.00</td>\n",
              "      <td>007742817X</td>\n",
              "      <td></td>\n",
              "    </tr>\n",
              "    <tr>\n",
              "      <th>55</th>\n",
              "      <td>[Software, Education &amp;amp; Reference]</td>\n",
              "      <td></td>\n",
              "      <td>[Contains a guided tour of the program, Planni...</td>\n",
              "      <td></td>\n",
              "      <td>Magruder's American Government Resource Pro CD...</td>\n",
              "      <td>[]</td>\n",
              "      <td></td>\n",
              "      <td>Magruder's</td>\n",
              "      <td>[]</td>\n",
              "      <td>19,702 in Software (</td>\n",
              "      <td>[0130679550]</td>\n",
              "      <td>Software</td>\n",
              "      <td></td>\n",
              "      <td>&lt;/div&gt;</td>\n",
              "      <td></td>\n",
              "      <td>0130438480</td>\n",
              "      <td></td>\n",
              "    </tr>\n",
              "    <tr>\n",
              "      <th>57</th>\n",
              "      <td>[Software, Education &amp; Reference, Test Prepara...</td>\n",
              "      <td></td>\n",
              "      <td>[]</td>\n",
              "      <td></td>\n",
              "      <td>Prentice Hall Test Manager a Comprehensive Sui...</td>\n",
              "      <td>[]</td>\n",
              "      <td></td>\n",
              "      <td>prentice hall</td>\n",
              "      <td>[]</td>\n",
              "      <td>54,036 in Software (</td>\n",
              "      <td>[]</td>\n",
              "      <td>Software</td>\n",
              "      <td></td>\n",
              "      <td>&lt;/div&gt;</td>\n",
              "      <td></td>\n",
              "      <td>0130852414</td>\n",
              "      <td></td>\n",
              "    </tr>\n",
              "    <tr>\n",
              "      <th>59</th>\n",
              "      <td>[Software, Education &amp;amp; Reference, Test Pre...</td>\n",
              "      <td></td>\n",
              "      <td>[Windos 95, 98, NT4, 200, XP\\nMac OS 9.1-9.2 O...</td>\n",
              "      <td></td>\n",
              "      <td>Magruder's American Government Itext Interacti...</td>\n",
              "      <td>[]</td>\n",
              "      <td></td>\n",
              "      <td>Magruder's</td>\n",
              "      <td>[Interactive Learning Tools-Bring Content to l...</td>\n",
              "      <td>52,031 in Software (</td>\n",
              "      <td>[]</td>\n",
              "      <td>Software</td>\n",
              "      <td></td>\n",
              "      <td>&lt;/div&gt;</td>\n",
              "      <td></td>\n",
              "      <td>0131817949</td>\n",
              "      <td></td>\n",
              "    </tr>\n",
              "    <tr>\n",
              "      <th>68</th>\n",
              "      <td>[Software, Design &amp;amp; Illustration, CAD]</td>\n",
              "      <td></td>\n",
              "      <td>[2.5 Floppy, , ]</td>\n",
              "      <td></td>\n",
              "      <td>AUTOCAD The Student Edition Release 10 (1982-89)</td>\n",
              "      <td>[]</td>\n",
              "      <td></td>\n",
              "      <td>Autodesk</td>\n",
              "      <td>[]</td>\n",
              "      <td>30,901 in Software (</td>\n",
              "      <td>[]</td>\n",
              "      <td>Software</td>\n",
              "      <td></td>\n",
              "      <td>&lt;/div&gt;</td>\n",
              "      <td></td>\n",
              "      <td>0201656302</td>\n",
              "      <td></td>\n",
              "    </tr>\n",
              "  </tbody>\n",
              "</table>\n",
              "</div>"
            ],
            "text/plain": [
              "                                             category tech1  \\\n",
              "11              [Software, Education &amp; Reference]         \n",
              "55              [Software, Education &amp; Reference]         \n",
              "57  [Software, Education & Reference, Test Prepara...         \n",
              "59  [Software, Education &amp; Reference, Test Pre...         \n",
              "68         [Software, Design &amp; Illustration, CAD]         \n",
              "\n",
              "                                          description fit  \\\n",
              "11  [Slides with Video, Teaching Public Speaking O...       \n",
              "55  [Contains a guided tour of the program, Planni...       \n",
              "57                                                 []       \n",
              "59  [Windos 95, 98, NT4, 200, XP\\nMac OS 9.1-9.2 O...       \n",
              "68                                   [2.5 Floppy, , ]       \n",
              "\n",
              "                                                title also_buy tech2  \\\n",
              "11  Instructor's Resource CD-ROM for The Art of Sp...       []         \n",
              "55  Magruder's American Government Resource Pro CD...       []         \n",
              "57  Prentice Hall Test Manager a Comprehensive Sui...       []         \n",
              "59  Magruder's American Government Itext Interacti...       []         \n",
              "68   AUTOCAD The Student Edition Release 10 (1982-89)       []         \n",
              "\n",
              "            brand                                            feature  \\\n",
              "11    McGraw Hill                                                 []   \n",
              "55     Magruder's                                                 []   \n",
              "57  prentice hall                                                 []   \n",
              "59     Magruder's  [Interactive Learning Tools-Bring Content to l...   \n",
              "68       Autodesk                                                 []   \n",
              "\n",
              "                    rank     also_view  main_cat similar_item    date  price  \\\n",
              "11  18,178 in Software (            []  Software               </div>  $8.00   \n",
              "55  19,702 in Software (  [0130679550]  Software               </div>          \n",
              "57  54,036 in Software (            []  Software               </div>          \n",
              "59  52,031 in Software (            []  Software               </div>          \n",
              "68  30,901 in Software (            []  Software               </div>          \n",
              "\n",
              "          asin details  \n",
              "11  007742817X          \n",
              "55  0130438480          \n",
              "57  0130852414          \n",
              "59  0131817949          \n",
              "68  0201656302          "
            ]
          },
          "execution_count": 27,
          "metadata": {},
          "output_type": "execute_result"
        }
      ],
      "source": [
        "filtered_df = df5[df5['main_cat'].apply(lambda x: 'Software' in x)]\n",
        "filtered_df = filtered_df.drop_duplicates(subset='asin')\n",
        "filtered_df = filtered_df[filtered_df['category'].apply(lambda x: 'Software' in x)]\n",
        "filtered_df = filtered_df.drop(['imageURL', 'imageURLHighRes'], axis=1)\n",
        "\n",
        "# Print the resulting DataFrame\n",
        "print(filtered_df.shape)\n",
        "filtered_df.head()\n"
      ]
    },
    {
      "cell_type": "code",
      "execution_count": 16,
      "metadata": {},
      "outputs": [
        {
          "name": "stdout",
          "output_type": "stream",
          "text": [
            "Number of rows with non-empty 'also_buy': 1701\n"
          ]
        }
      ],
      "source": [
        "non_empty_also_buy = filtered_df['also_buy'].apply(lambda x: len(x) > 0).sum()\n",
        "print(\"Number of rows with non-empty 'also_buy':\", non_empty_also_buy)\n"
      ]
    },
    {
      "cell_type": "code",
      "execution_count": 17,
      "metadata": {},
      "outputs": [
        {
          "name": "stdout",
          "output_type": "stream",
          "text": [
            "Number of rows with non-empty 'similar_item': 0\n"
          ]
        }
      ],
      "source": [
        "non_empty_similar_item = filtered_df['similar_item'].apply(lambda x: len(x) > 0).sum()\n",
        "print(\"Number of rows with non-empty 'similar_item':\", non_empty_similar_item)\n"
      ]
    },
    {
      "cell_type": "code",
      "execution_count": 18,
      "metadata": {},
      "outputs": [
        {
          "name": "stdout",
          "output_type": "stream",
          "text": [
            "Number of rows with non-empty 'asin': 17424\n"
          ]
        }
      ],
      "source": [
        "non_empty_similar_item = filtered_df['asin'].apply(lambda x: len(x) > 0).sum()\n",
        "print(\"Number of rows with non-empty 'asin':\", non_empty_similar_item)\n"
      ]
    },
    {
      "cell_type": "code",
      "execution_count": 19,
      "metadata": {},
      "outputs": [],
      "source": [
        "filtered_df.to_csv('filtered_data.csv', index=False)\n"
      ]
    },
    {
      "cell_type": "code",
      "execution_count": 20,
      "metadata": {},
      "outputs": [],
      "source": [
        "#load the data\n",
        "data = []\n",
        "with gzip.open('Software.json.gz') as f:\n",
        "    for l in f:\n",
        "        data.append(json.loads(l.strip()))"
      ]
    },
    {
      "cell_type": "code",
      "execution_count": 30,
      "metadata": {},
      "outputs": [],
      "source": [
        "reviews = pd.DataFrame.from_dict(data)\n"
      ]
    },
    {
      "cell_type": "code",
      "execution_count": 22,
      "metadata": {},
      "outputs": [
        {
          "data": {
            "text/html": [
              "<div>\n",
              "<style scoped>\n",
              "    .dataframe tbody tr th:only-of-type {\n",
              "        vertical-align: middle;\n",
              "    }\n",
              "\n",
              "    .dataframe tbody tr th {\n",
              "        vertical-align: top;\n",
              "    }\n",
              "\n",
              "    .dataframe thead th {\n",
              "        text-align: right;\n",
              "    }\n",
              "</style>\n",
              "<table border=\"1\" class=\"dataframe\">\n",
              "  <thead>\n",
              "    <tr style=\"text-align: right;\">\n",
              "      <th></th>\n",
              "      <th>overall</th>\n",
              "      <th>verified</th>\n",
              "      <th>reviewTime</th>\n",
              "      <th>reviewerID</th>\n",
              "      <th>asin</th>\n",
              "      <th>style</th>\n",
              "      <th>reviewerName</th>\n",
              "      <th>reviewText</th>\n",
              "      <th>summary</th>\n",
              "      <th>unixReviewTime</th>\n",
              "      <th>vote</th>\n",
              "      <th>image</th>\n",
              "    </tr>\n",
              "  </thead>\n",
              "  <tbody>\n",
              "    <tr>\n",
              "      <th>0</th>\n",
              "      <td>4.0</td>\n",
              "      <td>True</td>\n",
              "      <td>03 11, 2014</td>\n",
              "      <td>A240ORQ2LF9LUI</td>\n",
              "      <td>0077613252</td>\n",
              "      <td>{'Format:': ' Loose Leaf'}</td>\n",
              "      <td>Michelle W</td>\n",
              "      <td>The materials arrived early and were in excell...</td>\n",
              "      <td>Material Great</td>\n",
              "      <td>1394496000</td>\n",
              "      <td>NaN</td>\n",
              "      <td>NaN</td>\n",
              "    </tr>\n",
              "    <tr>\n",
              "      <th>1</th>\n",
              "      <td>4.0</td>\n",
              "      <td>True</td>\n",
              "      <td>02 23, 2014</td>\n",
              "      <td>A1YCCU0YRLS0FE</td>\n",
              "      <td>0077613252</td>\n",
              "      <td>{'Format:': ' Loose Leaf'}</td>\n",
              "      <td>Rosalind White Ames</td>\n",
              "      <td>I am really enjoying this book with the worksh...</td>\n",
              "      <td>Health</td>\n",
              "      <td>1393113600</td>\n",
              "      <td>NaN</td>\n",
              "      <td>NaN</td>\n",
              "    </tr>\n",
              "    <tr>\n",
              "      <th>2</th>\n",
              "      <td>1.0</td>\n",
              "      <td>True</td>\n",
              "      <td>02 17, 2014</td>\n",
              "      <td>A1BJHRQDYVAY2J</td>\n",
              "      <td>0077613252</td>\n",
              "      <td>{'Format:': ' Loose Leaf'}</td>\n",
              "      <td>Allan R. Baker</td>\n",
              "      <td>IF YOU ARE TAKING THIS CLASS DON\"T WASTE YOUR ...</td>\n",
              "      <td>ARE YOU KIDING ME?</td>\n",
              "      <td>1392595200</td>\n",
              "      <td>7</td>\n",
              "      <td>NaN</td>\n",
              "    </tr>\n",
              "    <tr>\n",
              "      <th>3</th>\n",
              "      <td>3.0</td>\n",
              "      <td>True</td>\n",
              "      <td>02 17, 2014</td>\n",
              "      <td>APRDVZ6QBIQXT</td>\n",
              "      <td>0077613252</td>\n",
              "      <td>{'Format:': ' Loose Leaf'}</td>\n",
              "      <td>Lucy</td>\n",
              "      <td>This book was missing pages!!! Important pages...</td>\n",
              "      <td>missing pages!!</td>\n",
              "      <td>1392595200</td>\n",
              "      <td>3</td>\n",
              "      <td>NaN</td>\n",
              "    </tr>\n",
              "    <tr>\n",
              "      <th>4</th>\n",
              "      <td>5.0</td>\n",
              "      <td>False</td>\n",
              "      <td>10 14, 2013</td>\n",
              "      <td>A2JZTTBSLS1QXV</td>\n",
              "      <td>0077775473</td>\n",
              "      <td>NaN</td>\n",
              "      <td>Albert V.</td>\n",
              "      <td>I have used LearnSmart and can officially say ...</td>\n",
              "      <td>Best study product out there!</td>\n",
              "      <td>1381708800</td>\n",
              "      <td>NaN</td>\n",
              "      <td>NaN</td>\n",
              "    </tr>\n",
              "  </tbody>\n",
              "</table>\n",
              "</div>"
            ],
            "text/plain": [
              "   overall  verified   reviewTime      reviewerID        asin  \\\n",
              "0      4.0      True  03 11, 2014  A240ORQ2LF9LUI  0077613252   \n",
              "1      4.0      True  02 23, 2014  A1YCCU0YRLS0FE  0077613252   \n",
              "2      1.0      True  02 17, 2014  A1BJHRQDYVAY2J  0077613252   \n",
              "3      3.0      True  02 17, 2014   APRDVZ6QBIQXT  0077613252   \n",
              "4      5.0     False  10 14, 2013  A2JZTTBSLS1QXV  0077775473   \n",
              "\n",
              "                        style         reviewerName  \\\n",
              "0  {'Format:': ' Loose Leaf'}           Michelle W   \n",
              "1  {'Format:': ' Loose Leaf'}  Rosalind White Ames   \n",
              "2  {'Format:': ' Loose Leaf'}       Allan R. Baker   \n",
              "3  {'Format:': ' Loose Leaf'}                 Lucy   \n",
              "4                         NaN            Albert V.   \n",
              "\n",
              "                                          reviewText  \\\n",
              "0  The materials arrived early and were in excell...   \n",
              "1  I am really enjoying this book with the worksh...   \n",
              "2  IF YOU ARE TAKING THIS CLASS DON\"T WASTE YOUR ...   \n",
              "3  This book was missing pages!!! Important pages...   \n",
              "4  I have used LearnSmart and can officially say ...   \n",
              "\n",
              "                         summary  unixReviewTime vote image  \n",
              "0                 Material Great      1394496000  NaN   NaN  \n",
              "1                         Health      1393113600  NaN   NaN  \n",
              "2             ARE YOU KIDING ME?      1392595200    7   NaN  \n",
              "3                missing pages!!      1392595200    3   NaN  \n",
              "4  Best study product out there!      1381708800  NaN   NaN  "
            ]
          },
          "execution_count": 22,
          "metadata": {},
          "output_type": "execute_result"
        }
      ],
      "source": [
        "reviews.head()"
      ]
    },
    {
      "cell_type": "code",
      "execution_count": 31,
      "metadata": {},
      "outputs": [
        {
          "data": {
            "text/html": [
              "<div>\n",
              "<style scoped>\n",
              "    .dataframe tbody tr th:only-of-type {\n",
              "        vertical-align: middle;\n",
              "    }\n",
              "\n",
              "    .dataframe tbody tr th {\n",
              "        vertical-align: top;\n",
              "    }\n",
              "\n",
              "    .dataframe thead th {\n",
              "        text-align: right;\n",
              "    }\n",
              "</style>\n",
              "<table border=\"1\" class=\"dataframe\">\n",
              "  <thead>\n",
              "    <tr style=\"text-align: right;\">\n",
              "      <th></th>\n",
              "      <th>overall</th>\n",
              "      <th>verified</th>\n",
              "      <th>reviewTime</th>\n",
              "      <th>reviewerID</th>\n",
              "      <th>asin</th>\n",
              "      <th>reviewerName</th>\n",
              "      <th>reviewText</th>\n",
              "      <th>summary</th>\n",
              "      <th>vote</th>\n",
              "    </tr>\n",
              "  </thead>\n",
              "  <tbody>\n",
              "    <tr>\n",
              "      <th>93</th>\n",
              "      <td>5.0</td>\n",
              "      <td>False</td>\n",
              "      <td>07 23, 2008</td>\n",
              "      <td>A8IOST6U6WH9B</td>\n",
              "      <td>0615179088</td>\n",
              "      <td>C. Radey</td>\n",
              "      <td>Human Japanese is a truly superb introduction ...</td>\n",
              "      <td>Human Japanese</td>\n",
              "      <td>12</td>\n",
              "    </tr>\n",
              "    <tr>\n",
              "      <th>94</th>\n",
              "      <td>5.0</td>\n",
              "      <td>False</td>\n",
              "      <td>06 4, 2008</td>\n",
              "      <td>A1MUV9F35OROS5</td>\n",
              "      <td>0615179088</td>\n",
              "      <td>D. Abel</td>\n",
              "      <td>I got Human Japanese as a demo from its websit...</td>\n",
              "      <td>Best Japanese Program Available</td>\n",
              "      <td>11</td>\n",
              "    </tr>\n",
              "    <tr>\n",
              "      <th>95</th>\n",
              "      <td>4.0</td>\n",
              "      <td>False</td>\n",
              "      <td>04 8, 2008</td>\n",
              "      <td>A27PAMABWVQ892</td>\n",
              "      <td>0615179088</td>\n",
              "      <td>piepiepie75</td>\n",
              "      <td>My first experience with Human Japanese was th...</td>\n",
              "      <td>Better than the Human Japanese 1...but not muc...</td>\n",
              "      <td>99</td>\n",
              "    </tr>\n",
              "    <tr>\n",
              "      <th>96</th>\n",
              "      <td>5.0</td>\n",
              "      <td>False</td>\n",
              "      <td>03 26, 2008</td>\n",
              "      <td>A3HWWVK0L3JEKF</td>\n",
              "      <td>0615179088</td>\n",
              "      <td>K. Grier</td>\n",
              "      <td>This is the first language software that I hav...</td>\n",
              "      <td>Great Product</td>\n",
              "      <td>4</td>\n",
              "    </tr>\n",
              "    <tr>\n",
              "      <th>97</th>\n",
              "      <td>5.0</td>\n",
              "      <td>False</td>\n",
              "      <td>02 20, 2008</td>\n",
              "      <td>A3NO2V2JU4Y8UY</td>\n",
              "      <td>0615179088</td>\n",
              "      <td>H. Granat</td>\n",
              "      <td>Human japanese is the best pc program for lear...</td>\n",
              "      <td>Love it!</td>\n",
              "      <td>2</td>\n",
              "    </tr>\n",
              "  </tbody>\n",
              "</table>\n",
              "</div>"
            ],
            "text/plain": [
              "    overall  verified   reviewTime      reviewerID        asin reviewerName  \\\n",
              "93      5.0     False  07 23, 2008   A8IOST6U6WH9B  0615179088     C. Radey   \n",
              "94      5.0     False   06 4, 2008  A1MUV9F35OROS5  0615179088      D. Abel   \n",
              "95      4.0     False   04 8, 2008  A27PAMABWVQ892  0615179088  piepiepie75   \n",
              "96      5.0     False  03 26, 2008  A3HWWVK0L3JEKF  0615179088     K. Grier   \n",
              "97      5.0     False  02 20, 2008  A3NO2V2JU4Y8UY  0615179088    H. Granat   \n",
              "\n",
              "                                           reviewText  \\\n",
              "93  Human Japanese is a truly superb introduction ...   \n",
              "94  I got Human Japanese as a demo from its websit...   \n",
              "95  My first experience with Human Japanese was th...   \n",
              "96  This is the first language software that I hav...   \n",
              "97  Human japanese is the best pc program for lear...   \n",
              "\n",
              "                                              summary vote  \n",
              "93                                     Human Japanese   12  \n",
              "94                    Best Japanese Program Available   11  \n",
              "95  Better than the Human Japanese 1...but not muc...   99  \n",
              "96                                      Great Product    4  \n",
              "97                                           Love it!    2  "
            ]
          },
          "execution_count": 31,
          "metadata": {},
          "output_type": "execute_result"
        }
      ],
      "source": [
        "reviews = reviews.drop(['unixReviewTime', 'image','style'], axis=1)\n",
        "filtered_reviews = reviews[reviews['asin'].isin(filtered_df['asin'])]\n",
        "\n",
        "filtered_reviews.shape\n",
        "filtered_reviews.head()"
      ]
    },
    {
      "cell_type": "code",
      "execution_count": 32,
      "metadata": {},
      "outputs": [],
      "source": [
        "filtered_reviews.to_csv('reviews_full.csv', index=False)\n"
      ]
    }
  ],
  "metadata": {
    "colab": {
      "provenance": []
    },
    "kernelspec": {
      "display_name": "Python 3",
      "name": "python3"
    },
    "language_info": {
      "codemirror_mode": {
        "name": "ipython",
        "version": 3
      },
      "file_extension": ".py",
      "mimetype": "text/x-python",
      "name": "python",
      "nbconvert_exporter": "python",
      "pygments_lexer": "ipython3",
      "version": "3.9.13"
    }
  },
  "nbformat": 4,
  "nbformat_minor": 0
}
