{
 "cells": [
  {
   "cell_type": "code",
   "execution_count": 1,
   "metadata": {},
   "outputs": [
    {
     "name": "stderr",
     "output_type": "stream",
     "text": [
      "/home/sc0001/Documents/SoftRec/sofRec/.conda/lib/python3.10/site-packages/tqdm/auto.py:21: TqdmWarning: IProgress not found. Please update jupyter and ipywidgets. See https://ipywidgets.readthedocs.io/en/stable/user_install.html\n",
      "  from .autonotebook import tqdm as notebook_tqdm\n"
     ]
    }
   ],
   "source": [
    "import pandas as pd\n",
    "import nltk\n",
    "from sentence_transformers import SentenceTransformer\n",
    "from nltk.corpus import stopwords\n",
    "from nltk.tokenize import word_tokenize\n",
    "from nltk.stem import WordNetLemmatizer"
   ]
  },
  {
   "cell_type": "code",
   "execution_count": 3,
   "metadata": {},
   "outputs": [
    {
     "name": "stderr",
     "output_type": "stream",
     "text": [
      "/tmp/ipykernel_98567/145584005.py:1: DtypeWarning: Columns (9,11) have mixed types. Specify dtype option on import or set low_memory=False.\n",
      "  review_meta = pd.read_csv(\"../../data/review_metadata.csv\")\n"
     ]
    }
   ],
   "source": [
    "review_meta = pd.read_csv(\"../../data/review_metadata.csv\")"
   ]
  },
  {
   "cell_type": "code",
   "execution_count": 6,
   "metadata": {},
   "outputs": [
    {
     "name": "stdout",
     "output_type": "stream",
     "text": [
      "<class 'pandas.core.frame.DataFrame'>\n",
      "RangeIndex: 145863 entries, 0 to 145862\n",
      "Data columns (total 30 columns):\n",
      " #   Column             Non-Null Count   Dtype  \n",
      "---  ------             --------------   -----  \n",
      " 0   Unnamed: 0         145863 non-null  int64  \n",
      " 1   overall            145863 non-null  float64\n",
      " 2   verified           145863 non-null  bool   \n",
      " 3   reviewTime         145863 non-null  object \n",
      " 4   reviewerID         145863 non-null  object \n",
      " 5   asin               145863 non-null  object \n",
      " 6   reviewerName       145836 non-null  object \n",
      " 7   reviewText         145834 non-null  object \n",
      " 8   summary            145844 non-null  object \n",
      " 9   vote               30493 non-null   object \n",
      " 10  category           145863 non-null  object \n",
      " 11  tech1              26 non-null      object \n",
      " 12  description        145863 non-null  object \n",
      " 13  fit                0 non-null       float64\n",
      " 14  title              145863 non-null  object \n",
      " 15  also_buy           145863 non-null  object \n",
      " 16  tech2              0 non-null       float64\n",
      " 17  brand              145774 non-null  object \n",
      " 18  feature            145863 non-null  object \n",
      " 19  rank               145863 non-null  object \n",
      " 20  also_view          145863 non-null  object \n",
      " 21  main_cat           145863 non-null  object \n",
      " 22  similar_item       0 non-null       float64\n",
      " 23  date               128320 non-null  object \n",
      " 24  price              145863 non-null  float64\n",
      " 25  details            143846 non-null  object \n",
      " 26  software_category  145863 non-null  object \n",
      " 27  Licensing_Fee      145863 non-null  float64\n",
      " 28  Implemention_cost  145863 non-null  float64\n",
      " 29  Maintenance_cost   145863 non-null  float64\n",
      "dtypes: bool(1), float64(8), int64(1), object(20)\n",
      "memory usage: 32.4+ MB\n"
     ]
    }
   ],
   "source": [
    "review_meta.info()"
   ]
  },
  {
   "cell_type": "code",
   "execution_count": 2,
   "metadata": {},
   "outputs": [],
   "source": [
    "def preprocess_text(text):\n",
    "    # Tokenize the text\n",
    "    text = str(text)\n",
    "    tokens = word_tokenize(text.lower())\n",
    "    # Remove stop words\n",
    "    filtered_tokens = [token for token in tokens if token not in stopwords.words('english')]\n",
    "    # Lemmatize the tokens\n",
    "    lemmatizer = WordNetLemmatizer()\n",
    "    lemmatized_tokens = [lemmatizer.lemmatize(token) for token in filtered_tokens]\n",
    "    # Join the tokens back into a string\n",
    "    processed_text = ' '.join(lemmatized_tokens)\n",
    "    return processed_text"
   ]
  },
  {
   "cell_type": "code",
   "execution_count": 5,
   "metadata": {},
   "outputs": [],
   "source": [
    "review_meta['title'] = review_meta['title'].apply(preprocess_text)\n",
    "review_meta['summary'] = review_meta['summary'].apply(preprocess_text)\n",
    "review_meta['description'] = review_meta['description'].apply(preprocess_text)\n",
    "review_meta['category'] = review_meta['category'].apply(preprocess_text)"
   ]
  },
  {
   "cell_type": "code",
   "execution_count": 6,
   "metadata": {},
   "outputs": [
    {
     "name": "stderr",
     "output_type": "stream",
     "text": [
      "/home/sc0001/Documents/SoftRec/sofRec/.conda/lib/python3.10/site-packages/tqdm/auto.py:21: TqdmWarning: IProgress not found. Please update jupyter and ipywidgets. See https://ipywidgets.readthedocs.io/en/stable/user_install.html\n",
      "  from .autonotebook import tqdm as notebook_tqdm\n"
     ]
    }
   ],
   "source": [
    "review_meta.to_csv(\"../../data/review_metadata_with_embeddings.csv\")"
   ]
  },
  {
   "attachments": {},
   "cell_type": "markdown",
   "metadata": {},
   "source": [
    "### Generate Embeddings for text features"
   ]
  },
  {
   "cell_type": "code",
   "execution_count": 3,
   "metadata": {},
   "outputs": [],
   "source": [
    "name = 'bert-base-nli-mean-tokens'\n",
    "model = SentenceTransformer(name)"
   ]
  },
  {
   "cell_type": "code",
   "execution_count": 4,
   "metadata": {},
   "outputs": [],
   "source": [
    "def get_embeddings(text):\n",
    "    sentences = list(text)\n",
    "    return model.encode(sentences)"
   ]
  },
  {
   "cell_type": "code",
   "execution_count": 9,
   "metadata": {},
   "outputs": [],
   "source": [
    "review_meta['summary_embeddings'] = review_meta['summary'].apply(lambda x: get_embeddings(x))\n",
    "review_meta.to_csv(\"../../data/review_metadata_with_embeddings.csv\")"
   ]
  },
  {
   "cell_type": "code",
   "execution_count": 10,
   "metadata": {},
   "outputs": [],
   "source": [
    "review_meta['title_embeddings'] = review_meta['title'].apply(lambda x: get_embeddings(x))\n",
    "review_meta.to_csv(\"../../data/review_metadata_with_embeddings.csv\")"
   ]
  },
  {
   "cell_type": "code",
   "execution_count": 38,
   "metadata": {},
   "outputs": [
    {
     "data": {
      "text/html": [
       "<div>\n",
       "<style scoped>\n",
       "    .dataframe tbody tr th:only-of-type {\n",
       "        vertical-align: middle;\n",
       "    }\n",
       "\n",
       "    .dataframe tbody tr th {\n",
       "        vertical-align: top;\n",
       "    }\n",
       "\n",
       "    .dataframe thead th {\n",
       "        text-align: right;\n",
       "    }\n",
       "</style>\n",
       "<table border=\"1\" class=\"dataframe\">\n",
       "  <thead>\n",
       "    <tr style=\"text-align: right;\">\n",
       "      <th></th>\n",
       "      <th>overall</th>\n",
       "      <th>verified</th>\n",
       "      <th>reviewTime</th>\n",
       "      <th>reviewerID</th>\n",
       "      <th>asin</th>\n",
       "      <th>reviewerName</th>\n",
       "      <th>reviewText</th>\n",
       "      <th>summary</th>\n",
       "      <th>vote</th>\n",
       "      <th>category</th>\n",
       "      <th>...</th>\n",
       "      <th>similar_item</th>\n",
       "      <th>date</th>\n",
       "      <th>price</th>\n",
       "      <th>details</th>\n",
       "      <th>software_category</th>\n",
       "      <th>Licensing_Fee</th>\n",
       "      <th>Implemention_cost</th>\n",
       "      <th>Maintenance_cost</th>\n",
       "      <th>summary_embeddings</th>\n",
       "      <th>title_embeddings</th>\n",
       "    </tr>\n",
       "  </thead>\n",
       "  <tbody>\n",
       "    <tr>\n",
       "      <th>0</th>\n",
       "      <td>5.0</td>\n",
       "      <td>False</td>\n",
       "      <td>07 23, 2008</td>\n",
       "      <td>A8IOST6U6WH9B</td>\n",
       "      <td>0615179088</td>\n",
       "      <td>C. Radey</td>\n",
       "      <td>Human Japanese is a truly superb introduction ...</td>\n",
       "      <td>human japanese</td>\n",
       "      <td>12</td>\n",
       "      <td>[ 'software ' , 'education &amp; reference ' , 'la...</td>\n",
       "      <td>...</td>\n",
       "      <td>NaN</td>\n",
       "      <td>&lt;/div&gt;</td>\n",
       "      <td>39.94</td>\n",
       "      <td>NaN</td>\n",
       "      <td>Education &amp; Reference</td>\n",
       "      <td>0.008</td>\n",
       "      <td>19.97</td>\n",
       "      <td>3.994</td>\n",
       "      <td>[[ 0.02127007 -0.17556548  2.008087   ...  0.1...</td>\n",
       "      <td>[[ 0.02127007 -0.17556548  2.008087   ...  0.1...</td>\n",
       "    </tr>\n",
       "    <tr>\n",
       "      <th>1</th>\n",
       "      <td>5.0</td>\n",
       "      <td>False</td>\n",
       "      <td>06 4, 2008</td>\n",
       "      <td>A1MUV9F35OROS5</td>\n",
       "      <td>0615179088</td>\n",
       "      <td>D. Abel</td>\n",
       "      <td>I got Human Japanese as a demo from its websit...</td>\n",
       "      <td>best japanese program available</td>\n",
       "      <td>11</td>\n",
       "      <td>[ 'software ' , 'education &amp; reference ' , 'la...</td>\n",
       "      <td>...</td>\n",
       "      <td>NaN</td>\n",
       "      <td>&lt;/div&gt;</td>\n",
       "      <td>39.94</td>\n",
       "      <td>NaN</td>\n",
       "      <td>Education &amp; Reference</td>\n",
       "      <td>0.008</td>\n",
       "      <td>19.97</td>\n",
       "      <td>3.994</td>\n",
       "      <td>[[ 0.07393144 -0.05106744  2.1081572  ...  0.6...</td>\n",
       "      <td>[[ 0.02127007 -0.17556548  2.008087   ...  0.1...</td>\n",
       "    </tr>\n",
       "    <tr>\n",
       "      <th>2</th>\n",
       "      <td>4.0</td>\n",
       "      <td>False</td>\n",
       "      <td>04 8, 2008</td>\n",
       "      <td>A27PAMABWVQ892</td>\n",
       "      <td>0615179088</td>\n",
       "      <td>piepiepie75</td>\n",
       "      <td>My first experience with Human Japanese was th...</td>\n",
       "      <td>better human japanese 1 ... much changed .</td>\n",
       "      <td>99</td>\n",
       "      <td>[ 'software ' , 'education &amp; reference ' , 'la...</td>\n",
       "      <td>...</td>\n",
       "      <td>NaN</td>\n",
       "      <td>&lt;/div&gt;</td>\n",
       "      <td>39.94</td>\n",
       "      <td>NaN</td>\n",
       "      <td>Education &amp; Reference</td>\n",
       "      <td>0.008</td>\n",
       "      <td>19.97</td>\n",
       "      <td>3.994</td>\n",
       "      <td>[[ 0.07393144 -0.05106744  2.1081572  ...  0.6...</td>\n",
       "      <td>[[ 0.02127007 -0.17556548  2.008087   ...  0.1...</td>\n",
       "    </tr>\n",
       "    <tr>\n",
       "      <th>3</th>\n",
       "      <td>5.0</td>\n",
       "      <td>False</td>\n",
       "      <td>03 26, 2008</td>\n",
       "      <td>A3HWWVK0L3JEKF</td>\n",
       "      <td>0615179088</td>\n",
       "      <td>K. Grier</td>\n",
       "      <td>This is the first language software that I hav...</td>\n",
       "      <td>great product</td>\n",
       "      <td>4</td>\n",
       "      <td>[ 'software ' , 'education &amp; reference ' , 'la...</td>\n",
       "      <td>...</td>\n",
       "      <td>NaN</td>\n",
       "      <td>&lt;/div&gt;</td>\n",
       "      <td>39.94</td>\n",
       "      <td>NaN</td>\n",
       "      <td>Education &amp; Reference</td>\n",
       "      <td>0.008</td>\n",
       "      <td>19.97</td>\n",
       "      <td>3.994</td>\n",
       "      <td>[[-0.39693055 -0.31397188  2.0098865  ...  0.1...</td>\n",
       "      <td>[[ 0.02127007 -0.17556548  2.008087   ...  0.1...</td>\n",
       "    </tr>\n",
       "    <tr>\n",
       "      <th>4</th>\n",
       "      <td>5.0</td>\n",
       "      <td>False</td>\n",
       "      <td>02 20, 2008</td>\n",
       "      <td>A3NO2V2JU4Y8UY</td>\n",
       "      <td>0615179088</td>\n",
       "      <td>H. Granat</td>\n",
       "      <td>Human japanese is the best pc program for lear...</td>\n",
       "      <td>love !</td>\n",
       "      <td>2</td>\n",
       "      <td>[ 'software ' , 'education &amp; reference ' , 'la...</td>\n",
       "      <td>...</td>\n",
       "      <td>NaN</td>\n",
       "      <td>&lt;/div&gt;</td>\n",
       "      <td>39.94</td>\n",
       "      <td>NaN</td>\n",
       "      <td>Education &amp; Reference</td>\n",
       "      <td>0.008</td>\n",
       "      <td>19.97</td>\n",
       "      <td>3.994</td>\n",
       "      <td>[[-0.21905293 -0.86112505  1.9966931  ... -0.0...</td>\n",
       "      <td>[[ 0.02127007 -0.17556548  2.008087   ...  0.1...</td>\n",
       "    </tr>\n",
       "  </tbody>\n",
       "</table>\n",
       "<p>5 rows × 31 columns</p>\n",
       "</div>"
      ],
      "text/plain": [
       "   overall  verified   reviewTime      reviewerID        asin reviewerName  \\\n",
       "0      5.0     False  07 23, 2008   A8IOST6U6WH9B  0615179088     C. Radey   \n",
       "1      5.0     False   06 4, 2008  A1MUV9F35OROS5  0615179088      D. Abel   \n",
       "2      4.0     False   04 8, 2008  A27PAMABWVQ892  0615179088  piepiepie75   \n",
       "3      5.0     False  03 26, 2008  A3HWWVK0L3JEKF  0615179088     K. Grier   \n",
       "4      5.0     False  02 20, 2008  A3NO2V2JU4Y8UY  0615179088    H. Granat   \n",
       "\n",
       "                                          reviewText  \\\n",
       "0  Human Japanese is a truly superb introduction ...   \n",
       "1  I got Human Japanese as a demo from its websit...   \n",
       "2  My first experience with Human Japanese was th...   \n",
       "3  This is the first language software that I hav...   \n",
       "4  Human japanese is the best pc program for lear...   \n",
       "\n",
       "                                      summary vote  \\\n",
       "0                              human japanese   12   \n",
       "1             best japanese program available   11   \n",
       "2  better human japanese 1 ... much changed .   99   \n",
       "3                               great product    4   \n",
       "4                                      love !    2   \n",
       "\n",
       "                                            category  ...  similar_item  \\\n",
       "0  [ 'software ' , 'education & reference ' , 'la...  ...           NaN   \n",
       "1  [ 'software ' , 'education & reference ' , 'la...  ...           NaN   \n",
       "2  [ 'software ' , 'education & reference ' , 'la...  ...           NaN   \n",
       "3  [ 'software ' , 'education & reference ' , 'la...  ...           NaN   \n",
       "4  [ 'software ' , 'education & reference ' , 'la...  ...           NaN   \n",
       "\n",
       "     date  price details      software_category  Licensing_Fee  \\\n",
       "0  </div>  39.94     NaN  Education & Reference          0.008   \n",
       "1  </div>  39.94     NaN  Education & Reference          0.008   \n",
       "2  </div>  39.94     NaN  Education & Reference          0.008   \n",
       "3  </div>  39.94     NaN  Education & Reference          0.008   \n",
       "4  </div>  39.94     NaN  Education & Reference          0.008   \n",
       "\n",
       "  Implemention_cost Maintenance_cost  \\\n",
       "0             19.97            3.994   \n",
       "1             19.97            3.994   \n",
       "2             19.97            3.994   \n",
       "3             19.97            3.994   \n",
       "4             19.97            3.994   \n",
       "\n",
       "                                  summary_embeddings  \\\n",
       "0  [[ 0.02127007 -0.17556548  2.008087   ...  0.1...   \n",
       "1  [[ 0.07393144 -0.05106744  2.1081572  ...  0.6...   \n",
       "2  [[ 0.07393144 -0.05106744  2.1081572  ...  0.6...   \n",
       "3  [[-0.39693055 -0.31397188  2.0098865  ...  0.1...   \n",
       "4  [[-0.21905293 -0.86112505  1.9966931  ... -0.0...   \n",
       "\n",
       "                                    title_embeddings  \n",
       "0  [[ 0.02127007 -0.17556548  2.008087   ...  0.1...  \n",
       "1  [[ 0.02127007 -0.17556548  2.008087   ...  0.1...  \n",
       "2  [[ 0.02127007 -0.17556548  2.008087   ...  0.1...  \n",
       "3  [[ 0.02127007 -0.17556548  2.008087   ...  0.1...  \n",
       "4  [[ 0.02127007 -0.17556548  2.008087   ...  0.1...  \n",
       "\n",
       "[5 rows x 31 columns]"
      ]
     },
     "execution_count": 38,
     "metadata": {},
     "output_type": "execute_result"
    }
   ],
   "source": [
    "review_meta = pd.read_csv(\"../../data/review_metadata_with_embeddings.csv\")\n",
    "review_meta = review_meta.drop(columns=[\"Unnamed: 0\"])\n",
    "review_meta.head()"
   ]
  },
  {
   "attachments": {},
   "cell_type": "markdown",
   "metadata": {},
   "source": [
    "<br> Realized that the description and asin were unique for each software, hence we have only 650 distinct softwares."
   ]
  },
  {
   "cell_type": "code",
   "execution_count": 39,
   "metadata": {},
   "outputs": [],
   "source": [
    "\n",
    "review_meta_1 = review_meta.groupby('asin').agg({'description':'first'}).reset_index()"
   ]
  },
  {
   "cell_type": "code",
   "execution_count": 40,
   "metadata": {},
   "outputs": [],
   "source": [
    "review_meta_1['description_embeddings'] = review_meta_1['description'].apply(lambda x: get_embeddings(x))"
   ]
  },
  {
   "cell_type": "code",
   "execution_count": 20,
   "metadata": {},
   "outputs": [
    {
     "data": {
      "text/html": [
       "<div>\n",
       "<style scoped>\n",
       "    .dataframe tbody tr th:only-of-type {\n",
       "        vertical-align: middle;\n",
       "    }\n",
       "\n",
       "    .dataframe tbody tr th {\n",
       "        vertical-align: top;\n",
       "    }\n",
       "\n",
       "    .dataframe thead th {\n",
       "        text-align: right;\n",
       "    }\n",
       "</style>\n",
       "<table border=\"1\" class=\"dataframe\">\n",
       "  <thead>\n",
       "    <tr style=\"text-align: right;\">\n",
       "      <th></th>\n",
       "      <th>asin</th>\n",
       "      <th>description</th>\n",
       "      <th>description_embeddings</th>\n",
       "    </tr>\n",
       "  </thead>\n",
       "  <tbody>\n",
       "    <tr>\n",
       "      <th>0</th>\n",
       "      <td>007742817X</td>\n",
       "      <td>[ 'slides video , teaching public speaking onl...</td>\n",
       "      <td>[[0.09625992, -0.18804407, 2.2306604, 0.070576...</td>\n",
       "    </tr>\n",
       "    <tr>\n",
       "      <th>1</th>\n",
       "      <td>0439740207</td>\n",
       "      <td>[ 'teaches child fun way type ' , `` , `` ]</td>\n",
       "      <td>[[0.09625992, -0.18804407, 2.2306604, 0.070576...</td>\n",
       "    </tr>\n",
       "    <tr>\n",
       "      <th>2</th>\n",
       "      <td>043983595X</td>\n",
       "      <td>[ `` 50 activity developing essential 1st &amp; am...</td>\n",
       "      <td>[[0.09625992, -0.18804407, 2.2306604, 0.070576...</td>\n",
       "    </tr>\n",
       "    <tr>\n",
       "      <th>3</th>\n",
       "      <td>0615179088</td>\n",
       "      <td>[ ' &lt; div &gt; human japanese software window pc ...</td>\n",
       "      <td>[[0.09625992, -0.18804407, 2.2306604, 0.070576...</td>\n",
       "    </tr>\n",
       "    <tr>\n",
       "      <th>4</th>\n",
       "      <td>061591067X</td>\n",
       "      <td>[ 'learn japanese long-awaited sequel human ja...</td>\n",
       "      <td>[[0.09625992, -0.18804407, 2.2306604, 0.070576...</td>\n",
       "    </tr>\n",
       "  </tbody>\n",
       "</table>\n",
       "</div>"
      ],
      "text/plain": [
       "         asin                                        description  \\\n",
       "0  007742817X  [ 'slides video , teaching public speaking onl...   \n",
       "1  0439740207        [ 'teaches child fun way type ' , `` , `` ]   \n",
       "2  043983595X  [ `` 50 activity developing essential 1st & am...   \n",
       "3  0615179088  [ ' < div > human japanese software window pc ...   \n",
       "4  061591067X  [ 'learn japanese long-awaited sequel human ja...   \n",
       "\n",
       "                              description_embeddings  \n",
       "0  [[0.09625992, -0.18804407, 2.2306604, 0.070576...  \n",
       "1  [[0.09625992, -0.18804407, 2.2306604, 0.070576...  \n",
       "2  [[0.09625992, -0.18804407, 2.2306604, 0.070576...  \n",
       "3  [[0.09625992, -0.18804407, 2.2306604, 0.070576...  \n",
       "4  [[0.09625992, -0.18804407, 2.2306604, 0.070576...  "
      ]
     },
     "execution_count": 20,
     "metadata": {},
     "output_type": "execute_result"
    }
   ],
   "source": [
    "review_meta_1.head()"
   ]
  },
  {
   "cell_type": "code",
   "execution_count": 41,
   "metadata": {},
   "outputs": [],
   "source": [
    "review_meta =  review_meta.merge(review_meta_1, on='asin', how='inner')"
   ]
  },
  {
   "cell_type": "code",
   "execution_count": 42,
   "metadata": {},
   "outputs": [],
   "source": [
    "review_meta = review_meta.drop(columns=['description_y'])"
   ]
  },
  {
   "cell_type": "code",
   "execution_count": 43,
   "metadata": {},
   "outputs": [
    {
     "data": {
      "text/html": [
       "<div>\n",
       "<style scoped>\n",
       "    .dataframe tbody tr th:only-of-type {\n",
       "        vertical-align: middle;\n",
       "    }\n",
       "\n",
       "    .dataframe tbody tr th {\n",
       "        vertical-align: top;\n",
       "    }\n",
       "\n",
       "    .dataframe thead th {\n",
       "        text-align: right;\n",
       "    }\n",
       "</style>\n",
       "<table border=\"1\" class=\"dataframe\">\n",
       "  <thead>\n",
       "    <tr style=\"text-align: right;\">\n",
       "      <th></th>\n",
       "      <th>overall</th>\n",
       "      <th>verified</th>\n",
       "      <th>reviewTime</th>\n",
       "      <th>reviewerID</th>\n",
       "      <th>asin</th>\n",
       "      <th>reviewerName</th>\n",
       "      <th>reviewText</th>\n",
       "      <th>summary</th>\n",
       "      <th>vote</th>\n",
       "      <th>category</th>\n",
       "      <th>...</th>\n",
       "      <th>date</th>\n",
       "      <th>price</th>\n",
       "      <th>details</th>\n",
       "      <th>software_category</th>\n",
       "      <th>Licensing_Fee</th>\n",
       "      <th>Implemention_cost</th>\n",
       "      <th>Maintenance_cost</th>\n",
       "      <th>summary_embeddings</th>\n",
       "      <th>title_embeddings</th>\n",
       "      <th>description_embeddings</th>\n",
       "    </tr>\n",
       "  </thead>\n",
       "  <tbody>\n",
       "    <tr>\n",
       "      <th>0</th>\n",
       "      <td>5.0</td>\n",
       "      <td>False</td>\n",
       "      <td>07 23, 2008</td>\n",
       "      <td>A8IOST6U6WH9B</td>\n",
       "      <td>0615179088</td>\n",
       "      <td>C. Radey</td>\n",
       "      <td>Human Japanese is a truly superb introduction ...</td>\n",
       "      <td>human japanese</td>\n",
       "      <td>12</td>\n",
       "      <td>[ 'software ' , 'education &amp; reference ' , 'la...</td>\n",
       "      <td>...</td>\n",
       "      <td>&lt;/div&gt;</td>\n",
       "      <td>39.94</td>\n",
       "      <td>NaN</td>\n",
       "      <td>Education &amp; Reference</td>\n",
       "      <td>0.008</td>\n",
       "      <td>19.97</td>\n",
       "      <td>3.994</td>\n",
       "      <td>[[ 0.02127007 -0.17556548  2.008087   ...  0.1...</td>\n",
       "      <td>[[ 0.02127007 -0.17556548  2.008087   ...  0.1...</td>\n",
       "      <td>[[0.09625992, -0.18804407, 2.2306604, 0.070576...</td>\n",
       "    </tr>\n",
       "    <tr>\n",
       "      <th>1</th>\n",
       "      <td>5.0</td>\n",
       "      <td>False</td>\n",
       "      <td>06 4, 2008</td>\n",
       "      <td>A1MUV9F35OROS5</td>\n",
       "      <td>0615179088</td>\n",
       "      <td>D. Abel</td>\n",
       "      <td>I got Human Japanese as a demo from its websit...</td>\n",
       "      <td>best japanese program available</td>\n",
       "      <td>11</td>\n",
       "      <td>[ 'software ' , 'education &amp; reference ' , 'la...</td>\n",
       "      <td>...</td>\n",
       "      <td>&lt;/div&gt;</td>\n",
       "      <td>39.94</td>\n",
       "      <td>NaN</td>\n",
       "      <td>Education &amp; Reference</td>\n",
       "      <td>0.008</td>\n",
       "      <td>19.97</td>\n",
       "      <td>3.994</td>\n",
       "      <td>[[ 0.07393144 -0.05106744  2.1081572  ...  0.6...</td>\n",
       "      <td>[[ 0.02127007 -0.17556548  2.008087   ...  0.1...</td>\n",
       "      <td>[[0.09625992, -0.18804407, 2.2306604, 0.070576...</td>\n",
       "    </tr>\n",
       "    <tr>\n",
       "      <th>2</th>\n",
       "      <td>4.0</td>\n",
       "      <td>False</td>\n",
       "      <td>04 8, 2008</td>\n",
       "      <td>A27PAMABWVQ892</td>\n",
       "      <td>0615179088</td>\n",
       "      <td>piepiepie75</td>\n",
       "      <td>My first experience with Human Japanese was th...</td>\n",
       "      <td>better human japanese 1 ... much changed .</td>\n",
       "      <td>99</td>\n",
       "      <td>[ 'software ' , 'education &amp; reference ' , 'la...</td>\n",
       "      <td>...</td>\n",
       "      <td>&lt;/div&gt;</td>\n",
       "      <td>39.94</td>\n",
       "      <td>NaN</td>\n",
       "      <td>Education &amp; Reference</td>\n",
       "      <td>0.008</td>\n",
       "      <td>19.97</td>\n",
       "      <td>3.994</td>\n",
       "      <td>[[ 0.07393144 -0.05106744  2.1081572  ...  0.6...</td>\n",
       "      <td>[[ 0.02127007 -0.17556548  2.008087   ...  0.1...</td>\n",
       "      <td>[[0.09625992, -0.18804407, 2.2306604, 0.070576...</td>\n",
       "    </tr>\n",
       "    <tr>\n",
       "      <th>3</th>\n",
       "      <td>5.0</td>\n",
       "      <td>False</td>\n",
       "      <td>03 26, 2008</td>\n",
       "      <td>A3HWWVK0L3JEKF</td>\n",
       "      <td>0615179088</td>\n",
       "      <td>K. Grier</td>\n",
       "      <td>This is the first language software that I hav...</td>\n",
       "      <td>great product</td>\n",
       "      <td>4</td>\n",
       "      <td>[ 'software ' , 'education &amp; reference ' , 'la...</td>\n",
       "      <td>...</td>\n",
       "      <td>&lt;/div&gt;</td>\n",
       "      <td>39.94</td>\n",
       "      <td>NaN</td>\n",
       "      <td>Education &amp; Reference</td>\n",
       "      <td>0.008</td>\n",
       "      <td>19.97</td>\n",
       "      <td>3.994</td>\n",
       "      <td>[[-0.39693055 -0.31397188  2.0098865  ...  0.1...</td>\n",
       "      <td>[[ 0.02127007 -0.17556548  2.008087   ...  0.1...</td>\n",
       "      <td>[[0.09625992, -0.18804407, 2.2306604, 0.070576...</td>\n",
       "    </tr>\n",
       "    <tr>\n",
       "      <th>4</th>\n",
       "      <td>5.0</td>\n",
       "      <td>False</td>\n",
       "      <td>02 20, 2008</td>\n",
       "      <td>A3NO2V2JU4Y8UY</td>\n",
       "      <td>0615179088</td>\n",
       "      <td>H. Granat</td>\n",
       "      <td>Human japanese is the best pc program for lear...</td>\n",
       "      <td>love !</td>\n",
       "      <td>2</td>\n",
       "      <td>[ 'software ' , 'education &amp; reference ' , 'la...</td>\n",
       "      <td>...</td>\n",
       "      <td>&lt;/div&gt;</td>\n",
       "      <td>39.94</td>\n",
       "      <td>NaN</td>\n",
       "      <td>Education &amp; Reference</td>\n",
       "      <td>0.008</td>\n",
       "      <td>19.97</td>\n",
       "      <td>3.994</td>\n",
       "      <td>[[-0.21905293 -0.86112505  1.9966931  ... -0.0...</td>\n",
       "      <td>[[ 0.02127007 -0.17556548  2.008087   ...  0.1...</td>\n",
       "      <td>[[0.09625992, -0.18804407, 2.2306604, 0.070576...</td>\n",
       "    </tr>\n",
       "  </tbody>\n",
       "</table>\n",
       "<p>5 rows × 32 columns</p>\n",
       "</div>"
      ],
      "text/plain": [
       "   overall  verified   reviewTime      reviewerID        asin reviewerName  \\\n",
       "0      5.0     False  07 23, 2008   A8IOST6U6WH9B  0615179088     C. Radey   \n",
       "1      5.0     False   06 4, 2008  A1MUV9F35OROS5  0615179088      D. Abel   \n",
       "2      4.0     False   04 8, 2008  A27PAMABWVQ892  0615179088  piepiepie75   \n",
       "3      5.0     False  03 26, 2008  A3HWWVK0L3JEKF  0615179088     K. Grier   \n",
       "4      5.0     False  02 20, 2008  A3NO2V2JU4Y8UY  0615179088    H. Granat   \n",
       "\n",
       "                                          reviewText  \\\n",
       "0  Human Japanese is a truly superb introduction ...   \n",
       "1  I got Human Japanese as a demo from its websit...   \n",
       "2  My first experience with Human Japanese was th...   \n",
       "3  This is the first language software that I hav...   \n",
       "4  Human japanese is the best pc program for lear...   \n",
       "\n",
       "                                      summary vote  \\\n",
       "0                              human japanese   12   \n",
       "1             best japanese program available   11   \n",
       "2  better human japanese 1 ... much changed .   99   \n",
       "3                               great product    4   \n",
       "4                                      love !    2   \n",
       "\n",
       "                                            category  ...    date  price  \\\n",
       "0  [ 'software ' , 'education & reference ' , 'la...  ...  </div>  39.94   \n",
       "1  [ 'software ' , 'education & reference ' , 'la...  ...  </div>  39.94   \n",
       "2  [ 'software ' , 'education & reference ' , 'la...  ...  </div>  39.94   \n",
       "3  [ 'software ' , 'education & reference ' , 'la...  ...  </div>  39.94   \n",
       "4  [ 'software ' , 'education & reference ' , 'la...  ...  </div>  39.94   \n",
       "\n",
       "   details      software_category Licensing_Fee  Implemention_cost  \\\n",
       "0      NaN  Education & Reference         0.008              19.97   \n",
       "1      NaN  Education & Reference         0.008              19.97   \n",
       "2      NaN  Education & Reference         0.008              19.97   \n",
       "3      NaN  Education & Reference         0.008              19.97   \n",
       "4      NaN  Education & Reference         0.008              19.97   \n",
       "\n",
       "  Maintenance_cost                                 summary_embeddings  \\\n",
       "0            3.994  [[ 0.02127007 -0.17556548  2.008087   ...  0.1...   \n",
       "1            3.994  [[ 0.07393144 -0.05106744  2.1081572  ...  0.6...   \n",
       "2            3.994  [[ 0.07393144 -0.05106744  2.1081572  ...  0.6...   \n",
       "3            3.994  [[-0.39693055 -0.31397188  2.0098865  ...  0.1...   \n",
       "4            3.994  [[-0.21905293 -0.86112505  1.9966931  ... -0.0...   \n",
       "\n",
       "                                    title_embeddings  \\\n",
       "0  [[ 0.02127007 -0.17556548  2.008087   ...  0.1...   \n",
       "1  [[ 0.02127007 -0.17556548  2.008087   ...  0.1...   \n",
       "2  [[ 0.02127007 -0.17556548  2.008087   ...  0.1...   \n",
       "3  [[ 0.02127007 -0.17556548  2.008087   ...  0.1...   \n",
       "4  [[ 0.02127007 -0.17556548  2.008087   ...  0.1...   \n",
       "\n",
       "                              description_embeddings  \n",
       "0  [[0.09625992, -0.18804407, 2.2306604, 0.070576...  \n",
       "1  [[0.09625992, -0.18804407, 2.2306604, 0.070576...  \n",
       "2  [[0.09625992, -0.18804407, 2.2306604, 0.070576...  \n",
       "3  [[0.09625992, -0.18804407, 2.2306604, 0.070576...  \n",
       "4  [[0.09625992, -0.18804407, 2.2306604, 0.070576...  \n",
       "\n",
       "[5 rows x 32 columns]"
      ]
     },
     "execution_count": 43,
     "metadata": {},
     "output_type": "execute_result"
    }
   ],
   "source": [
    "review_meta.head()"
   ]
  },
  {
   "cell_type": "code",
   "execution_count": 44,
   "metadata": {},
   "outputs": [],
   "source": [
    "review_meta = review_meta[review_meta.verified == True]"
   ]
  },
  {
   "cell_type": "code",
   "execution_count": 45,
   "metadata": {},
   "outputs": [
    {
     "data": {
      "text/plain": [
       "15456"
      ]
     },
     "execution_count": 45,
     "metadata": {},
     "output_type": "execute_result"
    }
   ],
   "source": [
    "len(review_meta)"
   ]
  },
  {
   "cell_type": "code",
   "execution_count": 46,
   "metadata": {},
   "outputs": [],
   "source": [
    "review_meta.dropna(subset = ['reviewText'], inplace=True)"
   ]
  },
  {
   "cell_type": "code",
   "execution_count": 48,
   "metadata": {},
   "outputs": [
    {
     "data": {
      "text/plain": [
       "overall\n",
       "5.0    8204\n",
       "4.0    2625\n",
       "1.0    2390\n",
       "3.0    1349\n",
       "2.0     887\n",
       "Name: count, dtype: int64"
      ]
     },
     "execution_count": 48,
     "metadata": {},
     "output_type": "execute_result"
    }
   ],
   "source": [
    "review_meta.overall.value_counts()"
   ]
  },
  {
   "attachments": {},
   "cell_type": "markdown",
   "metadata": {},
   "source": [
    "### "
   ]
  },
  {
   "cell_type": "code",
   "execution_count": 49,
   "metadata": {},
   "outputs": [
    {
     "data": {
      "text/plain": [
       "15455"
      ]
     },
     "execution_count": 49,
     "metadata": {},
     "output_type": "execute_result"
    }
   ],
   "source": [
    "len(review_meta)"
   ]
  },
  {
   "attachments": {},
   "cell_type": "markdown",
   "metadata": {},
   "source": [
    "### Correct rating with Review Text\n",
    "We use kmeans to cluster the tfidvector of all reviewtext to correct the ratings. "
   ]
  },
  {
   "cell_type": "code",
   "execution_count": 80,
   "metadata": {},
   "outputs": [
    {
     "name": "stdout",
     "output_type": "stream",
     "text": [
      "(15455, 16724)\n"
     ]
    }
   ],
   "source": [
    "from sklearn.feature_extraction.text import TfidfVectorizer\n",
    "\n",
    "#define vectorizer parameters\n",
    "tfidf_vectorizer = TfidfVectorizer()\n",
    "\n",
    "tfidf_matrix = tfidf_vectorizer.fit_transform(review_meta['reviewText']) #fit the vectorizer to synopses\n",
    "\n",
    "print(tfidf_matrix.shape)"
   ]
  },
  {
   "cell_type": "code",
   "execution_count": 81,
   "metadata": {},
   "outputs": [
    {
     "data": {
      "text/html": [
       "<style>#sk-container-id-6 {color: black;background-color: white;}#sk-container-id-6 pre{padding: 0;}#sk-container-id-6 div.sk-toggleable {background-color: white;}#sk-container-id-6 label.sk-toggleable__label {cursor: pointer;display: block;width: 100%;margin-bottom: 0;padding: 0.3em;box-sizing: border-box;text-align: center;}#sk-container-id-6 label.sk-toggleable__label-arrow:before {content: \"▸\";float: left;margin-right: 0.25em;color: #696969;}#sk-container-id-6 label.sk-toggleable__label-arrow:hover:before {color: black;}#sk-container-id-6 div.sk-estimator:hover label.sk-toggleable__label-arrow:before {color: black;}#sk-container-id-6 div.sk-toggleable__content {max-height: 0;max-width: 0;overflow: hidden;text-align: left;background-color: #f0f8ff;}#sk-container-id-6 div.sk-toggleable__content pre {margin: 0.2em;color: black;border-radius: 0.25em;background-color: #f0f8ff;}#sk-container-id-6 input.sk-toggleable__control:checked~div.sk-toggleable__content {max-height: 200px;max-width: 100%;overflow: auto;}#sk-container-id-6 input.sk-toggleable__control:checked~label.sk-toggleable__label-arrow:before {content: \"▾\";}#sk-container-id-6 div.sk-estimator input.sk-toggleable__control:checked~label.sk-toggleable__label {background-color: #d4ebff;}#sk-container-id-6 div.sk-label input.sk-toggleable__control:checked~label.sk-toggleable__label {background-color: #d4ebff;}#sk-container-id-6 input.sk-hidden--visually {border: 0;clip: rect(1px 1px 1px 1px);clip: rect(1px, 1px, 1px, 1px);height: 1px;margin: -1px;overflow: hidden;padding: 0;position: absolute;width: 1px;}#sk-container-id-6 div.sk-estimator {font-family: monospace;background-color: #f0f8ff;border: 1px dotted black;border-radius: 0.25em;box-sizing: border-box;margin-bottom: 0.5em;}#sk-container-id-6 div.sk-estimator:hover {background-color: #d4ebff;}#sk-container-id-6 div.sk-parallel-item::after {content: \"\";width: 100%;border-bottom: 1px solid gray;flex-grow: 1;}#sk-container-id-6 div.sk-label:hover label.sk-toggleable__label {background-color: #d4ebff;}#sk-container-id-6 div.sk-serial::before {content: \"\";position: absolute;border-left: 1px solid gray;box-sizing: border-box;top: 0;bottom: 0;left: 50%;z-index: 0;}#sk-container-id-6 div.sk-serial {display: flex;flex-direction: column;align-items: center;background-color: white;padding-right: 0.2em;padding-left: 0.2em;position: relative;}#sk-container-id-6 div.sk-item {position: relative;z-index: 1;}#sk-container-id-6 div.sk-parallel {display: flex;align-items: stretch;justify-content: center;background-color: white;position: relative;}#sk-container-id-6 div.sk-item::before, #sk-container-id-6 div.sk-parallel-item::before {content: \"\";position: absolute;border-left: 1px solid gray;box-sizing: border-box;top: 0;bottom: 0;left: 50%;z-index: -1;}#sk-container-id-6 div.sk-parallel-item {display: flex;flex-direction: column;z-index: 1;position: relative;background-color: white;}#sk-container-id-6 div.sk-parallel-item:first-child::after {align-self: flex-end;width: 50%;}#sk-container-id-6 div.sk-parallel-item:last-child::after {align-self: flex-start;width: 50%;}#sk-container-id-6 div.sk-parallel-item:only-child::after {width: 0;}#sk-container-id-6 div.sk-dashed-wrapped {border: 1px dashed gray;margin: 0 0.4em 0.5em 0.4em;box-sizing: border-box;padding-bottom: 0.4em;background-color: white;}#sk-container-id-6 div.sk-label label {font-family: monospace;font-weight: bold;display: inline-block;line-height: 1.2em;}#sk-container-id-6 div.sk-label-container {text-align: center;}#sk-container-id-6 div.sk-container {/* jupyter's `normalize.less` sets `[hidden] { display: none; }` but bootstrap.min.css set `[hidden] { display: none !important; }` so we also need the `!important` here to be able to override the default hidden behavior on the sphinx rendered scikit-learn.org. See: https://github.com/scikit-learn/scikit-learn/issues/21755 */display: inline-block !important;position: relative;}#sk-container-id-6 div.sk-text-repr-fallback {display: none;}</style><div id=\"sk-container-id-6\" class=\"sk-top-container\"><div class=\"sk-text-repr-fallback\"><pre>KMeans(n_clusters=5)</pre><b>In a Jupyter environment, please rerun this cell to show the HTML representation or trust the notebook. <br />On GitHub, the HTML representation is unable to render, please try loading this page with nbviewer.org.</b></div><div class=\"sk-container\" hidden><div class=\"sk-item\"><div class=\"sk-estimator sk-toggleable\"><input class=\"sk-toggleable__control sk-hidden--visually\" id=\"sk-estimator-id-6\" type=\"checkbox\" checked><label for=\"sk-estimator-id-6\" class=\"sk-toggleable__label sk-toggleable__label-arrow\">KMeans</label><div class=\"sk-toggleable__content\"><pre>KMeans(n_clusters=5)</pre></div></div></div></div></div>"
      ],
      "text/plain": [
       "KMeans(n_clusters=5)"
      ]
     },
     "execution_count": 81,
     "metadata": {},
     "output_type": "execute_result"
    }
   ],
   "source": [
    "from sklearn.cluster import KMeans\n",
    "km = KMeans(5)\n",
    "km.fit(tfidf_matrix)"
   ]
  },
  {
   "cell_type": "code",
   "execution_count": 82,
   "metadata": {},
   "outputs": [],
   "source": [
    "ls_val = km.labels_.tolist()"
   ]
  },
  {
   "cell_type": "code",
   "execution_count": 86,
   "metadata": {},
   "outputs": [],
   "source": [
    "clusters= { 'cluster_1' : ls_val.count(0),\n",
    "           'cluster_2' : ls_val.count(1),\n",
    "           'cluster_3' : ls_val.count(2),\n",
    "           'cluster_4' : ls_val.count(3),\n",
    "           'cluster_5' : ls_val.count(4),\n",
    "}"
   ]
  },
  {
   "cell_type": "code",
   "execution_count": 87,
   "metadata": {},
   "outputs": [
    {
     "data": {
      "text/plain": [
       "{'cluster_1': 7596,\n",
       " 'cluster_2': 6181,\n",
       " 'cluster_3': 463,\n",
       " 'cluster_4': 291,\n",
       " 'cluster_5': 924}"
      ]
     },
     "execution_count": 87,
     "metadata": {},
     "output_type": "execute_result"
    }
   ],
   "source": [
    "clusters"
   ]
  },
  {
   "cell_type": "code",
   "execution_count": 88,
   "metadata": {},
   "outputs": [],
   "source": [
    "# Add kmeans clusters\n",
    "review_meta['clusters'] = ls_val"
   ]
  },
  {
   "attachments": {},
   "cell_type": "markdown",
   "metadata": {},
   "source": [
    "#### For each cluster we count the numbe rof positives and negatives in them the use to encode ratings 1 - 5"
   ]
  },
  {
   "cell_type": "code",
   "execution_count": 89,
   "metadata": {},
   "outputs": [],
   "source": [
    "from transformers import pipeline\n",
    "import pandas as pd\n",
    "\n",
    "# Output labels\n",
    "candidate_labels = [\"positive\", \"negative\"]\n",
    "\n",
    "# device=0 for GPU usage\n",
    "classifier = pipeline(\"zero-shot-classification\",\n",
    "                      model=\"facebook/bart-large-mnli\", device=0)\n",
    "\n",
    "\n",
    "def count_predictions(df):\n",
    "    predictions = []\n",
    "    # Iterate over each row in the DataFrame\n",
    "    for i in range(len(df)):\n",
    "        input_text = df['reviewText'].iloc[i]\n",
    "\n",
    "        # Perform zero-shot classification\n",
    "        model_dict = classifier(input_text, candidate_labels, multi_label=True)\n",
    "\n",
    "        # Zip results to dict\n",
    "        result_dict = dict(zip(model_dict['labels'], model_dict['scores']))\n",
    "\n",
    "        # Assign the highest scoring label as the predicted label\n",
    "        predicted_label = max(result_dict, key=result_dict.get)\n",
    "        predictions.append(predicted_label)\n",
    "\n",
    "    return {\"postive\":predictions.count('positive'), \"negative\":predictions.count('negative')}\n",
    "    "
   ]
  },
  {
   "cell_type": "code",
   "execution_count": 90,
   "metadata": {},
   "outputs": [
    {
     "name": "stderr",
     "output_type": "stream",
     "text": [
      "/home/sc0001/Documents/SoftRec/sofRec/.conda/lib/python3.10/site-packages/transformers/pipelines/base.py:1081: UserWarning: You seem to be using the pipelines sequentially on GPU. In order to maximize efficiency please use a dataset\n",
      "  warnings.warn(\n"
     ]
    },
    {
     "data": {
      "text/plain": [
       "{'postive': 5334, 'negative': 2262}"
      ]
     },
     "execution_count": 90,
     "metadata": {},
     "output_type": "execute_result"
    }
   ],
   "source": [
    "## For cluster 1\n",
    "count_predictions(review_meta[review_meta.clusters == 0])"
   ]
  },
  {
   "cell_type": "code",
   "execution_count": 99,
   "metadata": {},
   "outputs": [
    {
     "data": {
      "text/plain": [
       "0.7022116903633492"
      ]
     },
     "execution_count": 99,
     "metadata": {},
     "output_type": "execute_result"
    }
   ],
   "source": [
    "5334 / (5334 + 2262)"
   ]
  },
  {
   "cell_type": "code",
   "execution_count": 91,
   "metadata": {},
   "outputs": [
    {
     "data": {
      "text/plain": [
       "{'postive': 3638, 'negative': 2543}"
      ]
     },
     "execution_count": 91,
     "metadata": {},
     "output_type": "execute_result"
    }
   ],
   "source": [
    "## For cluster 2\n",
    "count_predictions(review_meta[review_meta.clusters == 1])"
   ]
  },
  {
   "cell_type": "code",
   "execution_count": 95,
   "metadata": {},
   "outputs": [
    {
     "data": {
      "text/plain": [
       "0.5885779000161786"
      ]
     },
     "execution_count": 95,
     "metadata": {},
     "output_type": "execute_result"
    }
   ],
   "source": [
    "3638 / (3638 + 2543)"
   ]
  },
  {
   "cell_type": "code",
   "execution_count": 92,
   "metadata": {},
   "outputs": [
    {
     "data": {
      "text/plain": [
       "{'postive': 462, 'negative': 1}"
      ]
     },
     "execution_count": 92,
     "metadata": {},
     "output_type": "execute_result"
    }
   ],
   "source": [
    "## For cluster 3\n",
    "count_predictions(review_meta[review_meta.clusters == 2])"
   ]
  },
  {
   "cell_type": "code",
   "execution_count": 96,
   "metadata": {},
   "outputs": [
    {
     "data": {
      "text/plain": [
       "0.9978401727861771"
      ]
     },
     "execution_count": 96,
     "metadata": {},
     "output_type": "execute_result"
    }
   ],
   "source": [
    "462 / (462 +1)"
   ]
  },
  {
   "cell_type": "code",
   "execution_count": 93,
   "metadata": {},
   "outputs": [
    {
     "data": {
      "text/plain": [
       "{'postive': 286, 'negative': 5}"
      ]
     },
     "execution_count": 93,
     "metadata": {},
     "output_type": "execute_result"
    }
   ],
   "source": [
    "## For cluster 4\n",
    "count_predictions(review_meta[review_meta.clusters == 3])"
   ]
  },
  {
   "cell_type": "code",
   "execution_count": 97,
   "metadata": {},
   "outputs": [
    {
     "data": {
      "text/plain": [
       "0.9828178694158075"
      ]
     },
     "execution_count": 97,
     "metadata": {},
     "output_type": "execute_result"
    }
   ],
   "source": [
    "286 / (286 + 5)"
   ]
  },
  {
   "cell_type": "code",
   "execution_count": 94,
   "metadata": {},
   "outputs": [
    {
     "data": {
      "text/plain": [
       "{'postive': 861, 'negative': 63}"
      ]
     },
     "execution_count": 94,
     "metadata": {},
     "output_type": "execute_result"
    }
   ],
   "source": [
    "## For cluster 5\n",
    "count_predictions(review_meta[review_meta.clusters == 4])"
   ]
  },
  {
   "cell_type": "code",
   "execution_count": 98,
   "metadata": {},
   "outputs": [
    {
     "data": {
      "text/plain": [
       "0.9318181818181818"
      ]
     },
     "execution_count": 98,
     "metadata": {},
     "output_type": "execute_result"
    }
   ],
   "source": [
    "861 / (861 + 63)"
   ]
  },
  {
   "attachments": {},
   "cell_type": "markdown",
   "metadata": {},
   "source": [
    "##### We assigned ratings based on the group with the realtive highest positive sentiments"
   ]
  },
  {
   "cell_type": "code",
   "execution_count": 100,
   "metadata": {},
   "outputs": [],
   "source": [
    "rating_map = {0:4,\n",
    " 1:5,\n",
    " 2:1,\n",
    " 3:2,\n",
    " 4:3}"
   ]
  },
  {
   "cell_type": "code",
   "execution_count": 102,
   "metadata": {},
   "outputs": [],
   "source": [
    "review_meta['ratings'] = review_meta['clusters'].map(rating_map)"
   ]
  },
  {
   "cell_type": "code",
   "execution_count": 103,
   "metadata": {},
   "outputs": [
    {
     "data": {
      "text/html": [
       "<div>\n",
       "<style scoped>\n",
       "    .dataframe tbody tr th:only-of-type {\n",
       "        vertical-align: middle;\n",
       "    }\n",
       "\n",
       "    .dataframe tbody tr th {\n",
       "        vertical-align: top;\n",
       "    }\n",
       "\n",
       "    .dataframe thead th {\n",
       "        text-align: right;\n",
       "    }\n",
       "</style>\n",
       "<table border=\"1\" class=\"dataframe\">\n",
       "  <thead>\n",
       "    <tr style=\"text-align: right;\">\n",
       "      <th></th>\n",
       "      <th>overall</th>\n",
       "      <th>verified</th>\n",
       "      <th>reviewTime</th>\n",
       "      <th>reviewerID</th>\n",
       "      <th>asin</th>\n",
       "      <th>reviewerName</th>\n",
       "      <th>reviewText</th>\n",
       "      <th>summary</th>\n",
       "      <th>vote</th>\n",
       "      <th>category</th>\n",
       "      <th>...</th>\n",
       "      <th>details</th>\n",
       "      <th>software_category</th>\n",
       "      <th>Licensing_Fee</th>\n",
       "      <th>Implemention_cost</th>\n",
       "      <th>Maintenance_cost</th>\n",
       "      <th>summary_embeddings</th>\n",
       "      <th>title_embeddings</th>\n",
       "      <th>description_embeddings</th>\n",
       "      <th>clusters</th>\n",
       "      <th>ratings</th>\n",
       "    </tr>\n",
       "  </thead>\n",
       "  <tbody>\n",
       "    <tr>\n",
       "      <th>8</th>\n",
       "      <td>5.0</td>\n",
       "      <td>True</td>\n",
       "      <td>12 2, 2014</td>\n",
       "      <td>A2Q3KBSVA7F56Z</td>\n",
       "      <td>0615179088</td>\n",
       "      <td>Alvin Truthfinder</td>\n",
       "      <td>Very easy product to use. It's clear. Concise....</td>\n",
       "      <td>five star</td>\n",
       "      <td>NaN</td>\n",
       "      <td>[ 'software ' , 'education &amp; reference ' , 'la...</td>\n",
       "      <td>...</td>\n",
       "      <td>NaN</td>\n",
       "      <td>Education &amp; Reference</td>\n",
       "      <td>0.008</td>\n",
       "      <td>19.97</td>\n",
       "      <td>3.994</td>\n",
       "      <td>[[-0.16857387 -0.5855289   2.4885037  ...  0.2...</td>\n",
       "      <td>[[ 0.02127007 -0.17556548  2.008087   ...  0.1...</td>\n",
       "      <td>[[0.09625992, -0.18804407, 2.2306604, 0.070576...</td>\n",
       "      <td>4</td>\n",
       "      <td>3</td>\n",
       "    </tr>\n",
       "    <tr>\n",
       "      <th>9</th>\n",
       "      <td>5.0</td>\n",
       "      <td>True</td>\n",
       "      <td>11 14, 2014</td>\n",
       "      <td>A32OSD6FHVIK4I</td>\n",
       "      <td>0615179088</td>\n",
       "      <td>Mandy Wells</td>\n",
       "      <td>I love the Human Japanese software. I had a li...</td>\n",
       "      <td>love !</td>\n",
       "      <td>NaN</td>\n",
       "      <td>[ 'software ' , 'education &amp; reference ' , 'la...</td>\n",
       "      <td>...</td>\n",
       "      <td>NaN</td>\n",
       "      <td>Education &amp; Reference</td>\n",
       "      <td>0.008</td>\n",
       "      <td>19.97</td>\n",
       "      <td>3.994</td>\n",
       "      <td>[[-0.21905293 -0.86112505  1.9966931  ... -0.0...</td>\n",
       "      <td>[[ 0.02127007 -0.17556548  2.008087   ...  0.1...</td>\n",
       "      <td>[[0.09625992, -0.18804407, 2.2306604, 0.070576...</td>\n",
       "      <td>1</td>\n",
       "      <td>5</td>\n",
       "    </tr>\n",
       "    <tr>\n",
       "      <th>10</th>\n",
       "      <td>3.0</td>\n",
       "      <td>True</td>\n",
       "      <td>11 8, 2014</td>\n",
       "      <td>A37RK6IW147989</td>\n",
       "      <td>0615179088</td>\n",
       "      <td>Wendy Lee Riggsbee</td>\n",
       "      <td>only problem, daughter lost a code and ow cann...</td>\n",
       "      <td>three star</td>\n",
       "      <td>NaN</td>\n",
       "      <td>[ 'software ' , 'education &amp; reference ' , 'la...</td>\n",
       "      <td>...</td>\n",
       "      <td>NaN</td>\n",
       "      <td>Education &amp; Reference</td>\n",
       "      <td>0.008</td>\n",
       "      <td>19.97</td>\n",
       "      <td>3.994</td>\n",
       "      <td>[[ 0.24971181 -0.2821653   2.1901054  ...  0.1...</td>\n",
       "      <td>[[ 0.02127007 -0.17556548  2.008087   ...  0.1...</td>\n",
       "      <td>[[0.09625992, -0.18804407, 2.2306604, 0.070576...</td>\n",
       "      <td>0</td>\n",
       "      <td>4</td>\n",
       "    </tr>\n",
       "    <tr>\n",
       "      <th>11</th>\n",
       "      <td>4.0</td>\n",
       "      <td>True</td>\n",
       "      <td>09 22, 2014</td>\n",
       "      <td>A12ZEYNVT3PCAG</td>\n",
       "      <td>0615179088</td>\n",
       "      <td>Ean P.</td>\n",
       "      <td>For an intro to learning Japanese, I found it ...</td>\n",
       "      <td>say satisfied overall presentation</td>\n",
       "      <td>NaN</td>\n",
       "      <td>[ 'software ' , 'education &amp; reference ' , 'la...</td>\n",
       "      <td>...</td>\n",
       "      <td>NaN</td>\n",
       "      <td>Education &amp; Reference</td>\n",
       "      <td>0.008</td>\n",
       "      <td>19.97</td>\n",
       "      <td>3.994</td>\n",
       "      <td>[[-0.05452485 -0.14933898  2.2738338  ...  0.2...</td>\n",
       "      <td>[[ 0.02127007 -0.17556548  2.008087   ...  0.1...</td>\n",
       "      <td>[[0.09625992, -0.18804407, 2.2306604, 0.070576...</td>\n",
       "      <td>1</td>\n",
       "      <td>5</td>\n",
       "    </tr>\n",
       "    <tr>\n",
       "      <th>12</th>\n",
       "      <td>3.0</td>\n",
       "      <td>True</td>\n",
       "      <td>09 5, 2014</td>\n",
       "      <td>A3VCAL31C8EBRM</td>\n",
       "      <td>0615179088</td>\n",
       "      <td>KG</td>\n",
       "      <td>There is a lot of great information in here bu...</td>\n",
       "      <td>review</td>\n",
       "      <td>NaN</td>\n",
       "      <td>[ 'software ' , 'education &amp; reference ' , 'la...</td>\n",
       "      <td>...</td>\n",
       "      <td>NaN</td>\n",
       "      <td>Education &amp; Reference</td>\n",
       "      <td>0.008</td>\n",
       "      <td>19.97</td>\n",
       "      <td>3.994</td>\n",
       "      <td>[[-0.01089804 -0.38519934  2.1462338  ...  0.0...</td>\n",
       "      <td>[[ 0.02127007 -0.17556548  2.008087   ...  0.1...</td>\n",
       "      <td>[[0.09625992, -0.18804407, 2.2306604, 0.070576...</td>\n",
       "      <td>0</td>\n",
       "      <td>4</td>\n",
       "    </tr>\n",
       "  </tbody>\n",
       "</table>\n",
       "<p>5 rows × 34 columns</p>\n",
       "</div>"
      ],
      "text/plain": [
       "    overall  verified   reviewTime      reviewerID        asin  \\\n",
       "8       5.0      True   12 2, 2014  A2Q3KBSVA7F56Z  0615179088   \n",
       "9       5.0      True  11 14, 2014  A32OSD6FHVIK4I  0615179088   \n",
       "10      3.0      True   11 8, 2014  A37RK6IW147989  0615179088   \n",
       "11      4.0      True  09 22, 2014  A12ZEYNVT3PCAG  0615179088   \n",
       "12      3.0      True   09 5, 2014  A3VCAL31C8EBRM  0615179088   \n",
       "\n",
       "          reviewerName                                         reviewText  \\\n",
       "8    Alvin Truthfinder  Very easy product to use. It's clear. Concise....   \n",
       "9          Mandy Wells  I love the Human Japanese software. I had a li...   \n",
       "10  Wendy Lee Riggsbee  only problem, daughter lost a code and ow cann...   \n",
       "11              Ean P.  For an intro to learning Japanese, I found it ...   \n",
       "12                  KG  There is a lot of great information in here bu...   \n",
       "\n",
       "                               summary vote  \\\n",
       "8                            five star  NaN   \n",
       "9                               love !  NaN   \n",
       "10                          three star  NaN   \n",
       "11  say satisfied overall presentation  NaN   \n",
       "12                              review  NaN   \n",
       "\n",
       "                                             category  ...  details  \\\n",
       "8   [ 'software ' , 'education & reference ' , 'la...  ...      NaN   \n",
       "9   [ 'software ' , 'education & reference ' , 'la...  ...      NaN   \n",
       "10  [ 'software ' , 'education & reference ' , 'la...  ...      NaN   \n",
       "11  [ 'software ' , 'education & reference ' , 'la...  ...      NaN   \n",
       "12  [ 'software ' , 'education & reference ' , 'la...  ...      NaN   \n",
       "\n",
       "        software_category  Licensing_Fee Implemention_cost Maintenance_cost  \\\n",
       "8   Education & Reference          0.008             19.97            3.994   \n",
       "9   Education & Reference          0.008             19.97            3.994   \n",
       "10  Education & Reference          0.008             19.97            3.994   \n",
       "11  Education & Reference          0.008             19.97            3.994   \n",
       "12  Education & Reference          0.008             19.97            3.994   \n",
       "\n",
       "                                   summary_embeddings  \\\n",
       "8   [[-0.16857387 -0.5855289   2.4885037  ...  0.2...   \n",
       "9   [[-0.21905293 -0.86112505  1.9966931  ... -0.0...   \n",
       "10  [[ 0.24971181 -0.2821653   2.1901054  ...  0.1...   \n",
       "11  [[-0.05452485 -0.14933898  2.2738338  ...  0.2...   \n",
       "12  [[-0.01089804 -0.38519934  2.1462338  ...  0.0...   \n",
       "\n",
       "                                     title_embeddings  \\\n",
       "8   [[ 0.02127007 -0.17556548  2.008087   ...  0.1...   \n",
       "9   [[ 0.02127007 -0.17556548  2.008087   ...  0.1...   \n",
       "10  [[ 0.02127007 -0.17556548  2.008087   ...  0.1...   \n",
       "11  [[ 0.02127007 -0.17556548  2.008087   ...  0.1...   \n",
       "12  [[ 0.02127007 -0.17556548  2.008087   ...  0.1...   \n",
       "\n",
       "                               description_embeddings clusters ratings  \n",
       "8   [[0.09625992, -0.18804407, 2.2306604, 0.070576...        4       3  \n",
       "9   [[0.09625992, -0.18804407, 2.2306604, 0.070576...        1       5  \n",
       "10  [[0.09625992, -0.18804407, 2.2306604, 0.070576...        0       4  \n",
       "11  [[0.09625992, -0.18804407, 2.2306604, 0.070576...        1       5  \n",
       "12  [[0.09625992, -0.18804407, 2.2306604, 0.070576...        0       4  \n",
       "\n",
       "[5 rows x 34 columns]"
      ]
     },
     "execution_count": 103,
     "metadata": {},
     "output_type": "execute_result"
    }
   ],
   "source": [
    "review_meta.head()"
   ]
  },
  {
   "cell_type": "code",
   "execution_count": 111,
   "metadata": {},
   "outputs": [
    {
     "data": {
      "text/plain": [
       "8     [ ' < div > human japanese software window pc ...\n",
       "9     [ ' < div > human japanese software window pc ...\n",
       "10    [ ' < div > human japanese software window pc ...\n",
       "11    [ ' < div > human japanese software window pc ...\n",
       "12    [ ' < div > human japanese software window pc ...\n",
       "Name: description, dtype: object"
      ]
     },
     "execution_count": 111,
     "metadata": {},
     "output_type": "execute_result"
    }
   ],
   "source": [
    "review_meta.description.head()"
   ]
  },
  {
   "cell_type": "code",
   "execution_count": 108,
   "metadata": {},
   "outputs": [],
   "source": [
    "review_meta.rename(columns={\"description_x\":\"description\"}, inplace=True)"
   ]
  },
  {
   "cell_type": "code",
   "execution_count": 110,
   "metadata": {},
   "outputs": [],
   "source": [
    "software_data = review_meta[['asin','brand','price','description','Licensing_Fee','Implemention_cost','Maintenance_cost','summary_embeddings',\n",
    "       'title_embeddings', 'description_embeddings']]"
   ]
  },
  {
   "cell_type": "code",
   "execution_count": 154,
   "metadata": {},
   "outputs": [],
   "source": [
    "from sklearn.feature_extraction.text import TfidfVectorizer\n",
    "from sklearn.metrics.pairwise import cosine_similarity\n",
    "\n",
    " \n",
    "def rec_softwares(software_description, software_data):\n",
    "    software_data['software_description'] = software_description\n",
    "    vectorizer = TfidfVectorizer()\n",
    "    X = vectorizer.fit_transform(software_data[['software_description','description']])\n",
    "    \n",
    "    cosine_sim = cosine_similarity(X)\n",
    "    target_item_index = 0 \n",
    "    scores = list(enumerate(cosine_sim[target_item_index]))\n",
    "    scores = sorted(scores, key=lambda x: x[1], reverse=True)\n",
    "    top_n = 5\n",
    "    top_recommendations = scores[0:top_n+1]\n",
    "    for ind, sore in top_recommendations:\n",
    "        print(software_data.iloc[ind,:])"
   ]
  },
  {
   "cell_type": "code",
   "execution_count": 153,
   "metadata": {},
   "outputs": [
    {
     "name": "stdout",
     "output_type": "stream",
     "text": [
      "asin                                                             0615179088\n",
      "brand                                                         Brak Software\n",
      "price                                                                 39.94\n",
      "description               [ ' < div > human japanese software window pc ...\n",
      "Licensing_Fee                                                         0.008\n",
      "Implemention_cost                                                     19.97\n",
      "Maintenance_cost                                                      3.994\n",
      "summary_embeddings        [[-0.16857387 -0.5855289   2.4885037  ...  0.2...\n",
      "title_embeddings          [[ 0.02127007 -0.17556548  2.008087   ...  0.1...\n",
      "description_embeddings    [[0.09625992, -0.18804407, 2.2306604, 0.070576...\n",
      "software_description      HR program for windows and mac for japanese hu...\n",
      "Name: 8, dtype: object\n",
      "asin                                                             0615179088\n",
      "brand                                                         Brak Software\n",
      "price                                                                 39.94\n",
      "description               [ ' < div > human japanese software window pc ...\n",
      "Licensing_Fee                                                         0.008\n",
      "Implemention_cost                                                     19.97\n",
      "Maintenance_cost                                                      3.994\n",
      "summary_embeddings        [[-0.21905293 -0.86112505  1.9966931  ... -0.0...\n",
      "title_embeddings          [[ 0.02127007 -0.17556548  2.008087   ...  0.1...\n",
      "description_embeddings    [[0.09625992, -0.18804407, 2.2306604, 0.070576...\n",
      "software_description      HR program for windows and mac for japanese hu...\n",
      "Name: 9, dtype: object\n"
     ]
    },
    {
     "name": "stderr",
     "output_type": "stream",
     "text": [
      "/tmp/ipykernel_213570/370724902.py:6: SettingWithCopyWarning: \n",
      "A value is trying to be set on a copy of a slice from a DataFrame.\n",
      "Try using .loc[row_indexer,col_indexer] = value instead\n",
      "\n",
      "See the caveats in the documentation: https://pandas.pydata.org/pandas-docs/stable/user_guide/indexing.html#returning-a-view-versus-a-copy\n",
      "  software_data['software_description'] = software_description\n"
     ]
    }
   ],
   "source": [
    "rec_softwares(\"HR program for windows and mac for japanese humans\",software_data)"
   ]
  },
  {
   "cell_type": "code",
   "execution_count": null,
   "metadata": {},
   "outputs": [],
   "source": []
  }
 ],
 "metadata": {
  "kernelspec": {
   "display_name": "Python 3",
   "language": "python",
   "name": "python3"
  },
  "language_info": {
   "codemirror_mode": {
    "name": "ipython",
    "version": 3
   },
   "file_extension": ".py",
   "mimetype": "text/x-python",
   "name": "python",
   "nbconvert_exporter": "python",
   "pygments_lexer": "ipython3",
   "version": "3.10.11"
  },
  "orig_nbformat": 4
 },
 "nbformat": 4,
 "nbformat_minor": 2
}
